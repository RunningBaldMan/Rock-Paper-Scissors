{
 "cells": [
  {
   "cell_type": "code",
   "execution_count": null,
   "id": "07f290d9",
   "metadata": {},
   "outputs": [],
   "source": []
  },
  {
   "cell_type": "code",
   "execution_count": 1,
   "id": "8b6a926e",
   "metadata": {},
   "outputs": [],
   "source": [
    "!pip3 install fredapi > /dev/null"
   ]
  },
  {
   "cell_type": "code",
   "execution_count": 8,
   "id": "0e42d9f0",
   "metadata": {},
   "outputs": [],
   "source": [
    "import pandas as pd\n",
    "import numpy as np\n",
    "import matplotlib.pyplot as plt\n",
    "import plotly\n",
    "\n",
    "plt.style.use('fivethirtyeight')\n",
    "pd.set_option('display.max_columns', 500)\n",
    "color_pal = plt.rcParams['axes.prop_cycle'].by_key()['color']\n",
    "\n",
    "from fredapi import Fred\n",
    "\n",
    "fred_key ='8f0cd38bc95ae329419a64684bd6346f'\n"
   ]
  },
  {
   "cell_type": "code",
   "execution_count": 10,
   "id": "3a74e6e2",
   "metadata": {},
   "outputs": [
    {
     "data": {
      "text/plain": [
       "<fredapi.fred.Fred at 0x11c8a51d0>"
      ]
     },
     "execution_count": 10,
     "metadata": {},
     "output_type": "execute_result"
    }
   ],
   "source": [
    "# 1. create a Fred object\n",
    "\n",
    "Fred(api_key=fred_key)"
   ]
  },
  {
   "cell_type": "code",
   "execution_count": 14,
   "id": "16c4795d",
   "metadata": {},
   "outputs": [
    {
     "data": {
      "text/html": [
       "<div>\n",
       "<style scoped>\n",
       "    .dataframe tbody tr th:only-of-type {\n",
       "        vertical-align: middle;\n",
       "    }\n",
       "\n",
       "    .dataframe tbody tr th {\n",
       "        vertical-align: top;\n",
       "    }\n",
       "\n",
       "    .dataframe thead th {\n",
       "        text-align: right;\n",
       "    }\n",
       "</style>\n",
       "<table border=\"1\" class=\"dataframe\">\n",
       "  <thead>\n",
       "    <tr style=\"text-align: right;\">\n",
       "      <th></th>\n",
       "      <th>id</th>\n",
       "      <th>realtime_start</th>\n",
       "      <th>realtime_end</th>\n",
       "      <th>title</th>\n",
       "      <th>observation_start</th>\n",
       "      <th>observation_end</th>\n",
       "      <th>frequency</th>\n",
       "      <th>frequency_short</th>\n",
       "      <th>units</th>\n",
       "      <th>units_short</th>\n",
       "      <th>seasonal_adjustment</th>\n",
       "      <th>seasonal_adjustment_short</th>\n",
       "      <th>last_updated</th>\n",
       "      <th>popularity</th>\n",
       "      <th>notes</th>\n",
       "    </tr>\n",
       "    <tr>\n",
       "      <th>series id</th>\n",
       "      <th></th>\n",
       "      <th></th>\n",
       "      <th></th>\n",
       "      <th></th>\n",
       "      <th></th>\n",
       "      <th></th>\n",
       "      <th></th>\n",
       "      <th></th>\n",
       "      <th></th>\n",
       "      <th></th>\n",
       "      <th></th>\n",
       "      <th></th>\n",
       "      <th></th>\n",
       "      <th></th>\n",
       "      <th></th>\n",
       "    </tr>\n",
       "  </thead>\n",
       "  <tbody>\n",
       "    <tr>\n",
       "      <th>SP500</th>\n",
       "      <td>SP500</td>\n",
       "      <td>2025-07-15</td>\n",
       "      <td>2025-07-15</td>\n",
       "      <td>S&amp;P 500</td>\n",
       "      <td>2015-07-15</td>\n",
       "      <td>2025-07-14</td>\n",
       "      <td>Daily, Close</td>\n",
       "      <td>D</td>\n",
       "      <td>Index</td>\n",
       "      <td>Index</td>\n",
       "      <td>Not Seasonally Adjusted</td>\n",
       "      <td>NSA</td>\n",
       "      <td>2025-07-14 19:02:00-05:00</td>\n",
       "      <td>83</td>\n",
       "      <td>The observations for the S&amp;P 500 represent the...</td>\n",
       "    </tr>\n",
       "    <tr>\n",
       "      <th>VXVCLS</th>\n",
       "      <td>VXVCLS</td>\n",
       "      <td>2025-07-15</td>\n",
       "      <td>2025-07-15</td>\n",
       "      <td>CBOE S&amp;P 500 3-Month Volatility Index</td>\n",
       "      <td>2007-12-04</td>\n",
       "      <td>2025-07-14</td>\n",
       "      <td>Daily, Close</td>\n",
       "      <td>D</td>\n",
       "      <td>Index</td>\n",
       "      <td>Index</td>\n",
       "      <td>Not Seasonally Adjusted</td>\n",
       "      <td>NSA</td>\n",
       "      <td>2025-07-15 08:36:08-05:00</td>\n",
       "      <td>54</td>\n",
       "      <td>Copyright, 2016, Chicago Board Options Exchang...</td>\n",
       "    </tr>\n",
       "    <tr>\n",
       "      <th>MEHOINUSA646N</th>\n",
       "      <td>MEHOINUSA646N</td>\n",
       "      <td>2025-07-15</td>\n",
       "      <td>2025-07-15</td>\n",
       "      <td>Median Household Income in the United States</td>\n",
       "      <td>1984-01-01</td>\n",
       "      <td>2023-01-01</td>\n",
       "      <td>Annual</td>\n",
       "      <td>A</td>\n",
       "      <td>Current Dollars</td>\n",
       "      <td>Current $</td>\n",
       "      <td>Not Seasonally Adjusted</td>\n",
       "      <td>NSA</td>\n",
       "      <td>2024-09-11 09:45:03-05:00</td>\n",
       "      <td>72</td>\n",
       "      <td>Household data are collected as of March.  As ...</td>\n",
       "    </tr>\n",
       "    <tr>\n",
       "      <th>STLFSI</th>\n",
       "      <td>STLFSI</td>\n",
       "      <td>2025-07-15</td>\n",
       "      <td>2025-07-15</td>\n",
       "      <td>St. Louis Fed Financial Stress Index (DISCONTI...</td>\n",
       "      <td>1993-12-31</td>\n",
       "      <td>2020-03-13</td>\n",
       "      <td>Weekly, Ending Friday</td>\n",
       "      <td>W</td>\n",
       "      <td>Index</td>\n",
       "      <td>Index</td>\n",
       "      <td>Not Seasonally Adjusted</td>\n",
       "      <td>NSA</td>\n",
       "      <td>2020-03-19 09:00:02-05:00</td>\n",
       "      <td>32</td>\n",
       "      <td>The methodology for the St. Louis Fed's Financ...</td>\n",
       "    </tr>\n",
       "    <tr>\n",
       "      <th>MEHOINUSCAA646N</th>\n",
       "      <td>MEHOINUSCAA646N</td>\n",
       "      <td>2025-07-15</td>\n",
       "      <td>2025-07-15</td>\n",
       "      <td>Median Household Income in California</td>\n",
       "      <td>1984-01-01</td>\n",
       "      <td>2023-01-01</td>\n",
       "      <td>Annual</td>\n",
       "      <td>A</td>\n",
       "      <td>Current Dollars</td>\n",
       "      <td>Current $</td>\n",
       "      <td>Not Seasonally Adjusted</td>\n",
       "      <td>NSA</td>\n",
       "      <td>2024-09-11 09:45:03-05:00</td>\n",
       "      <td>56</td>\n",
       "      <td>Household data are collected as of March.  As ...</td>\n",
       "    </tr>\n",
       "    <tr>\n",
       "      <th>...</th>\n",
       "      <td>...</td>\n",
       "      <td>...</td>\n",
       "      <td>...</td>\n",
       "      <td>...</td>\n",
       "      <td>...</td>\n",
       "      <td>...</td>\n",
       "      <td>...</td>\n",
       "      <td>...</td>\n",
       "      <td>...</td>\n",
       "      <td>...</td>\n",
       "      <td>...</td>\n",
       "      <td>...</td>\n",
       "      <td>...</td>\n",
       "      <td>...</td>\n",
       "      <td>...</td>\n",
       "    </tr>\n",
       "    <tr>\n",
       "      <th>MEHOINUSDEA646N</th>\n",
       "      <td>MEHOINUSDEA646N</td>\n",
       "      <td>2025-07-15</td>\n",
       "      <td>2025-07-15</td>\n",
       "      <td>Median Household Income in Delaware</td>\n",
       "      <td>1984-01-01</td>\n",
       "      <td>2023-01-01</td>\n",
       "      <td>Annual</td>\n",
       "      <td>A</td>\n",
       "      <td>Current Dollars</td>\n",
       "      <td>Current $</td>\n",
       "      <td>Not Seasonally Adjusted</td>\n",
       "      <td>NSA</td>\n",
       "      <td>2024-09-11 09:45:20-05:00</td>\n",
       "      <td>5</td>\n",
       "      <td>Household data are collected as of March.  As ...</td>\n",
       "    </tr>\n",
       "    <tr>\n",
       "      <th>MEHOINUSMSA646N</th>\n",
       "      <td>MEHOINUSMSA646N</td>\n",
       "      <td>2025-07-15</td>\n",
       "      <td>2025-07-15</td>\n",
       "      <td>Median Household Income in Mississippi</td>\n",
       "      <td>1984-01-01</td>\n",
       "      <td>2023-01-01</td>\n",
       "      <td>Annual</td>\n",
       "      <td>A</td>\n",
       "      <td>Current Dollars</td>\n",
       "      <td>Current $</td>\n",
       "      <td>Not Seasonally Adjusted</td>\n",
       "      <td>NSA</td>\n",
       "      <td>2024-09-11 09:45:23-05:00</td>\n",
       "      <td>4</td>\n",
       "      <td>Household data are collected as of March.  As ...</td>\n",
       "    </tr>\n",
       "    <tr>\n",
       "      <th>MEHOINUSHIA646N</th>\n",
       "      <td>MEHOINUSHIA646N</td>\n",
       "      <td>2025-07-15</td>\n",
       "      <td>2025-07-15</td>\n",
       "      <td>Median Household Income in Hawaii</td>\n",
       "      <td>1984-01-01</td>\n",
       "      <td>2023-01-01</td>\n",
       "      <td>Annual</td>\n",
       "      <td>A</td>\n",
       "      <td>Current Dollars</td>\n",
       "      <td>Current $</td>\n",
       "      <td>Not Seasonally Adjusted</td>\n",
       "      <td>NSA</td>\n",
       "      <td>2024-09-11 09:45:23-05:00</td>\n",
       "      <td>3</td>\n",
       "      <td>Household data are collected as of March.  As ...</td>\n",
       "    </tr>\n",
       "    <tr>\n",
       "      <th>M14068USM144NNBR</th>\n",
       "      <td>M14068USM144NNBR</td>\n",
       "      <td>2025-07-15</td>\n",
       "      <td>2025-07-15</td>\n",
       "      <td>Bills Bought, Federal Reserve Banks for United...</td>\n",
       "      <td>1915-02-01</td>\n",
       "      <td>1939-09-01</td>\n",
       "      <td>Monthly</td>\n",
       "      <td>M</td>\n",
       "      <td>Millions of Dollars</td>\n",
       "      <td>Mil. Of $</td>\n",
       "      <td>Not Seasonally Adjusted</td>\n",
       "      <td>NSA</td>\n",
       "      <td>2012-08-20 08:36:23-05:00</td>\n",
       "      <td>1</td>\n",
       "      <td>Data Represent Monthly Averages Of Daily Figur...</td>\n",
       "    </tr>\n",
       "    <tr>\n",
       "      <th>Q16088USQ509NNBR</th>\n",
       "      <td>Q16088USQ509NNBR</td>\n",
       "      <td>2025-07-15</td>\n",
       "      <td>2025-07-15</td>\n",
       "      <td>Diffusion Index, New Capital Appropriations, 5...</td>\n",
       "      <td>1953-07-01</td>\n",
       "      <td>1958-10-01</td>\n",
       "      <td>Quarterly</td>\n",
       "      <td>Q</td>\n",
       "      <td>Percent Expanding</td>\n",
       "      <td>% Expanding</td>\n",
       "      <td>Not Seasonally Adjusted</td>\n",
       "      <td>NSA</td>\n",
       "      <td>2012-08-20 09:32:18-05:00</td>\n",
       "      <td>1</td>\n",
       "      <td>Data Cover Manufacturing Companies With Assets...</td>\n",
       "    </tr>\n",
       "  </tbody>\n",
       "</table>\n",
       "<p>101 rows × 15 columns</p>\n",
       "</div>"
      ],
      "text/plain": [
       "                                id realtime_start realtime_end  \\\n",
       "series id                                                        \n",
       "SP500                        SP500     2025-07-15   2025-07-15   \n",
       "VXVCLS                      VXVCLS     2025-07-15   2025-07-15   \n",
       "MEHOINUSA646N        MEHOINUSA646N     2025-07-15   2025-07-15   \n",
       "STLFSI                      STLFSI     2025-07-15   2025-07-15   \n",
       "MEHOINUSCAA646N    MEHOINUSCAA646N     2025-07-15   2025-07-15   \n",
       "...                            ...            ...          ...   \n",
       "MEHOINUSDEA646N    MEHOINUSDEA646N     2025-07-15   2025-07-15   \n",
       "MEHOINUSMSA646N    MEHOINUSMSA646N     2025-07-15   2025-07-15   \n",
       "MEHOINUSHIA646N    MEHOINUSHIA646N     2025-07-15   2025-07-15   \n",
       "M14068USM144NNBR  M14068USM144NNBR     2025-07-15   2025-07-15   \n",
       "Q16088USQ509NNBR  Q16088USQ509NNBR     2025-07-15   2025-07-15   \n",
       "\n",
       "                                                              title  \\\n",
       "series id                                                             \n",
       "SP500                                                       S&P 500   \n",
       "VXVCLS                        CBOE S&P 500 3-Month Volatility Index   \n",
       "MEHOINUSA646N          Median Household Income in the United States   \n",
       "STLFSI            St. Louis Fed Financial Stress Index (DISCONTI...   \n",
       "MEHOINUSCAA646N               Median Household Income in California   \n",
       "...                                                             ...   \n",
       "MEHOINUSDEA646N                 Median Household Income in Delaware   \n",
       "MEHOINUSMSA646N              Median Household Income in Mississippi   \n",
       "MEHOINUSHIA646N                   Median Household Income in Hawaii   \n",
       "M14068USM144NNBR  Bills Bought, Federal Reserve Banks for United...   \n",
       "Q16088USQ509NNBR  Diffusion Index, New Capital Appropriations, 5...   \n",
       "\n",
       "                 observation_start observation_end              frequency  \\\n",
       "series id                                                                   \n",
       "SP500                   2015-07-15      2025-07-14           Daily, Close   \n",
       "VXVCLS                  2007-12-04      2025-07-14           Daily, Close   \n",
       "MEHOINUSA646N           1984-01-01      2023-01-01                 Annual   \n",
       "STLFSI                  1993-12-31      2020-03-13  Weekly, Ending Friday   \n",
       "MEHOINUSCAA646N         1984-01-01      2023-01-01                 Annual   \n",
       "...                            ...             ...                    ...   \n",
       "MEHOINUSDEA646N         1984-01-01      2023-01-01                 Annual   \n",
       "MEHOINUSMSA646N         1984-01-01      2023-01-01                 Annual   \n",
       "MEHOINUSHIA646N         1984-01-01      2023-01-01                 Annual   \n",
       "M14068USM144NNBR        1915-02-01      1939-09-01                Monthly   \n",
       "Q16088USQ509NNBR        1953-07-01      1958-10-01              Quarterly   \n",
       "\n",
       "                 frequency_short                units  units_short  \\\n",
       "series id                                                            \n",
       "SP500                          D                Index        Index   \n",
       "VXVCLS                         D                Index        Index   \n",
       "MEHOINUSA646N                  A      Current Dollars    Current $   \n",
       "STLFSI                         W                Index        Index   \n",
       "MEHOINUSCAA646N                A      Current Dollars    Current $   \n",
       "...                          ...                  ...          ...   \n",
       "MEHOINUSDEA646N                A      Current Dollars    Current $   \n",
       "MEHOINUSMSA646N                A      Current Dollars    Current $   \n",
       "MEHOINUSHIA646N                A      Current Dollars    Current $   \n",
       "M14068USM144NNBR               M  Millions of Dollars    Mil. Of $   \n",
       "Q16088USQ509NNBR               Q    Percent Expanding  % Expanding   \n",
       "\n",
       "                      seasonal_adjustment seasonal_adjustment_short  \\\n",
       "series id                                                             \n",
       "SP500             Not Seasonally Adjusted                       NSA   \n",
       "VXVCLS            Not Seasonally Adjusted                       NSA   \n",
       "MEHOINUSA646N     Not Seasonally Adjusted                       NSA   \n",
       "STLFSI            Not Seasonally Adjusted                       NSA   \n",
       "MEHOINUSCAA646N   Not Seasonally Adjusted                       NSA   \n",
       "...                                   ...                       ...   \n",
       "MEHOINUSDEA646N   Not Seasonally Adjusted                       NSA   \n",
       "MEHOINUSMSA646N   Not Seasonally Adjusted                       NSA   \n",
       "MEHOINUSHIA646N   Not Seasonally Adjusted                       NSA   \n",
       "M14068USM144NNBR  Not Seasonally Adjusted                       NSA   \n",
       "Q16088USQ509NNBR  Not Seasonally Adjusted                       NSA   \n",
       "\n",
       "                              last_updated popularity  \\\n",
       "series id                                               \n",
       "SP500            2025-07-14 19:02:00-05:00         83   \n",
       "VXVCLS           2025-07-15 08:36:08-05:00         54   \n",
       "MEHOINUSA646N    2024-09-11 09:45:03-05:00         72   \n",
       "STLFSI           2020-03-19 09:00:02-05:00         32   \n",
       "MEHOINUSCAA646N  2024-09-11 09:45:03-05:00         56   \n",
       "...                                    ...        ...   \n",
       "MEHOINUSDEA646N  2024-09-11 09:45:20-05:00          5   \n",
       "MEHOINUSMSA646N  2024-09-11 09:45:23-05:00          4   \n",
       "MEHOINUSHIA646N  2024-09-11 09:45:23-05:00          3   \n",
       "M14068USM144NNBR 2012-08-20 08:36:23-05:00          1   \n",
       "Q16088USQ509NNBR 2012-08-20 09:32:18-05:00          1   \n",
       "\n",
       "                                                              notes  \n",
       "series id                                                            \n",
       "SP500             The observations for the S&P 500 represent the...  \n",
       "VXVCLS            Copyright, 2016, Chicago Board Options Exchang...  \n",
       "MEHOINUSA646N     Household data are collected as of March.  As ...  \n",
       "STLFSI            The methodology for the St. Louis Fed's Financ...  \n",
       "MEHOINUSCAA646N   Household data are collected as of March.  As ...  \n",
       "...                                                             ...  \n",
       "MEHOINUSDEA646N   Household data are collected as of March.  As ...  \n",
       "MEHOINUSMSA646N   Household data are collected as of March.  As ...  \n",
       "MEHOINUSHIA646N   Household data are collected as of March.  As ...  \n",
       "M14068USM144NNBR  Data Represent Monthly Averages Of Daily Figur...  \n",
       "Q16088USQ509NNBR  Data Cover Manufacturing Companies With Assets...  \n",
       "\n",
       "[101 rows x 15 columns]"
      ]
     },
     "execution_count": 14,
     "metadata": {},
     "output_type": "execute_result"
    }
   ],
   "source": [
    "# 2. search for economic data series\n",
    "\n",
    "fred = Fred(api_key=fred_key)\n",
    "\n",
    "fred.search(\"S&P 500\")\n"
   ]
  },
  {
   "cell_type": "code",
   "execution_count": 15,
   "id": "10397174",
   "metadata": {},
   "outputs": [],
   "source": [
    "\n",
    "fred = Fred(api_key=fred_key)"
   ]
  },
  {
   "cell_type": "code",
   "execution_count": 19,
   "id": "4a98ea06",
   "metadata": {},
   "outputs": [
    {
     "data": {
      "text/plain": [
       "(101, 15)"
      ]
     },
     "execution_count": 19,
     "metadata": {},
     "output_type": "execute_result"
    }
   ],
   "source": [
    "sp_search = fred.search(\"S&P 500\", order_by='popularity')\n",
    "sp_search.shape"
   ]
  },
  {
   "cell_type": "code",
   "execution_count": 21,
   "id": "c614f330",
   "metadata": {},
   "outputs": [],
   "source": [
    "# 3 Pull raw data\n",
    "\n",
    "sp500 = fred.get_series(series_id='SP500')"
   ]
  },
  {
   "cell_type": "code",
   "execution_count": 24,
   "id": "b7b27585",
   "metadata": {},
   "outputs": [
    {
     "data": {
      "text/plain": [
       "<Axes: title={'center': 'S&P 500'}>"
      ]
     },
     "execution_count": 24,
     "metadata": {},
     "output_type": "execute_result"
    },
    {
     "data": {
      "image/png": "[encoded data removed]",
      "text/plain": [
       "<Figure size 1000x500 with 1 Axes>"
      ]
     },
     "metadata": {},
     "output_type": "display_data"
    }
   ],
   "source": [
    "sp500.plot(figsize=(10, 5), title='S&P 500', lw=2)"
   ]
  },
  {
   "cell_type": "code",
   "execution_count": 25,
   "id": "6b7bfc37",
   "metadata": {},
   "outputs": [],
   "source": [
    "#4 pull and join multipole data series\n",
    "\n",
    "unemp_results =fred.search('unemployment')"
   ]
  },
  {
   "cell_type": "code",
   "execution_count": null,
   "id": "a4eb299d",
   "metadata": {},
   "outputs": [],
   "source": [
    "unrate = fred.get_series('UNRATE')"
   ]
  },
  {
   "cell_type": "code",
   "execution_count": 29,
   "id": "902f0c70",
   "metadata": {},
   "outputs": [
    {
     "data": {
      "text/plain": [
       "<Axes: >"
      ]
     },
     "execution_count": 29,
     "metadata": {},
     "output_type": "execute_result"
    },
    {
     "data": {
      "image/png": "[encoded data removed]",
      "text/plain": [
       "<Figure size 640x480 with 1 Axes>"
      ]
     },
     "metadata": {},
     "output_type": "display_data"
    }
   ],
   "source": [
    "unrate.plot()"
   ]
  },
  {
   "cell_type": "code",
   "execution_count": 26,
   "id": "57d9a0c8",
   "metadata": {},
   "outputs": [
    {
     "data": {
      "text/html": [
       "<div>\n",
       "<style scoped>\n",
       "    .dataframe tbody tr th:only-of-type {\n",
       "        vertical-align: middle;\n",
       "    }\n",
       "\n",
       "    .dataframe tbody tr th {\n",
       "        vertical-align: top;\n",
       "    }\n",
       "\n",
       "    .dataframe thead th {\n",
       "        text-align: right;\n",
       "    }\n",
       "</style>\n",
       "<table border=\"1\" class=\"dataframe\">\n",
       "  <thead>\n",
       "    <tr style=\"text-align: right;\">\n",
       "      <th></th>\n",
       "      <th>id</th>\n",
       "      <th>realtime_start</th>\n",
       "      <th>realtime_end</th>\n",
       "      <th>title</th>\n",
       "      <th>observation_start</th>\n",
       "      <th>observation_end</th>\n",
       "      <th>frequency</th>\n",
       "      <th>frequency_short</th>\n",
       "      <th>units</th>\n",
       "      <th>units_short</th>\n",
       "      <th>seasonal_adjustment</th>\n",
       "      <th>seasonal_adjustment_short</th>\n",
       "      <th>last_updated</th>\n",
       "      <th>popularity</th>\n",
       "      <th>notes</th>\n",
       "    </tr>\n",
       "    <tr>\n",
       "      <th>series id</th>\n",
       "      <th></th>\n",
       "      <th></th>\n",
       "      <th></th>\n",
       "      <th></th>\n",
       "      <th></th>\n",
       "      <th></th>\n",
       "      <th></th>\n",
       "      <th></th>\n",
       "      <th></th>\n",
       "      <th></th>\n",
       "      <th></th>\n",
       "      <th></th>\n",
       "      <th></th>\n",
       "      <th></th>\n",
       "      <th></th>\n",
       "    </tr>\n",
       "  </thead>\n",
       "  <tbody>\n",
       "    <tr>\n",
       "      <th>UNRATE</th>\n",
       "      <td>UNRATE</td>\n",
       "      <td>2025-07-15</td>\n",
       "      <td>2025-07-15</td>\n",
       "      <td>Unemployment Rate</td>\n",
       "      <td>1948-01-01</td>\n",
       "      <td>2025-06-01</td>\n",
       "      <td>Monthly</td>\n",
       "      <td>M</td>\n",
       "      <td>Percent</td>\n",
       "      <td>%</td>\n",
       "      <td>Seasonally Adjusted</td>\n",
       "      <td>SA</td>\n",
       "      <td>2025-07-03 07:47:54-05:00</td>\n",
       "      <td>95</td>\n",
       "      <td>The unemployment rate represents the number of...</td>\n",
       "    </tr>\n",
       "    <tr>\n",
       "      <th>UNRATENSA</th>\n",
       "      <td>UNRATENSA</td>\n",
       "      <td>2025-07-15</td>\n",
       "      <td>2025-07-15</td>\n",
       "      <td>Unemployment Rate</td>\n",
       "      <td>1948-01-01</td>\n",
       "      <td>2025-06-01</td>\n",
       "      <td>Monthly</td>\n",
       "      <td>M</td>\n",
       "      <td>Percent</td>\n",
       "      <td>%</td>\n",
       "      <td>Not Seasonally Adjusted</td>\n",
       "      <td>NSA</td>\n",
       "      <td>2025-07-03 07:47:54-05:00</td>\n",
       "      <td>58</td>\n",
       "      <td>The unemployment rate represents the number of...</td>\n",
       "    </tr>\n",
       "    <tr>\n",
       "      <th>UNEMPLOY</th>\n",
       "      <td>UNEMPLOY</td>\n",
       "      <td>2025-07-15</td>\n",
       "      <td>2025-07-15</td>\n",
       "      <td>Unemployment Level</td>\n",
       "      <td>1948-01-01</td>\n",
       "      <td>2025-06-01</td>\n",
       "      <td>Monthly</td>\n",
       "      <td>M</td>\n",
       "      <td>Thousands of Persons</td>\n",
       "      <td>Thous. of Persons</td>\n",
       "      <td>Seasonally Adjusted</td>\n",
       "      <td>SA</td>\n",
       "      <td>2025-07-03 07:48:40-05:00</td>\n",
       "      <td>71</td>\n",
       "      <td>The series comes from the 'Current Population ...</td>\n",
       "    </tr>\n",
       "    <tr>\n",
       "      <th>NROU</th>\n",
       "      <td>NROU</td>\n",
       "      <td>2025-07-15</td>\n",
       "      <td>2025-07-15</td>\n",
       "      <td>Noncyclical Rate of Unemployment</td>\n",
       "      <td>1949-01-01</td>\n",
       "      <td>2035-10-01</td>\n",
       "      <td>Quarterly</td>\n",
       "      <td>Q</td>\n",
       "      <td>Percent</td>\n",
       "      <td>%</td>\n",
       "      <td>Not Seasonally Adjusted</td>\n",
       "      <td>NSA</td>\n",
       "      <td>2025-03-17 15:44:05-05:00</td>\n",
       "      <td>69</td>\n",
       "      <td>Starting with the July, 2021 report: An Update...</td>\n",
       "    </tr>\n",
       "    <tr>\n",
       "      <th>CCSA</th>\n",
       "      <td>CCSA</td>\n",
       "      <td>2025-07-15</td>\n",
       "      <td>2025-07-15</td>\n",
       "      <td>Continued Claims (Insured Unemployment)</td>\n",
       "      <td>1967-01-07</td>\n",
       "      <td>2025-06-28</td>\n",
       "      <td>Weekly, Ending Saturday</td>\n",
       "      <td>W</td>\n",
       "      <td>Number</td>\n",
       "      <td>Number</td>\n",
       "      <td>Seasonally Adjusted</td>\n",
       "      <td>SA</td>\n",
       "      <td>2025-07-10 07:33:02-05:00</td>\n",
       "      <td>74</td>\n",
       "      <td>Continued claims, also referred to as insured ...</td>\n",
       "    </tr>\n",
       "    <tr>\n",
       "      <th>...</th>\n",
       "      <td>...</td>\n",
       "      <td>...</td>\n",
       "      <td>...</td>\n",
       "      <td>...</td>\n",
       "      <td>...</td>\n",
       "      <td>...</td>\n",
       "      <td>...</td>\n",
       "      <td>...</td>\n",
       "      <td>...</td>\n",
       "      <td>...</td>\n",
       "      <td>...</td>\n",
       "      <td>...</td>\n",
       "      <td>...</td>\n",
       "      <td>...</td>\n",
       "      <td>...</td>\n",
       "    </tr>\n",
       "    <tr>\n",
       "      <th>ENUC317430010</th>\n",
       "      <td>ENUC317430010</td>\n",
       "      <td>2025-07-15</td>\n",
       "      <td>2025-07-15</td>\n",
       "      <td>Total Quarterly Wages in Manhattan, KS (MSA)</td>\n",
       "      <td>2013-01-01</td>\n",
       "      <td>2024-10-01</td>\n",
       "      <td>Quarterly</td>\n",
       "      <td>Q</td>\n",
       "      <td>Dollars</td>\n",
       "      <td>$</td>\n",
       "      <td>Not Seasonally Adjusted</td>\n",
       "      <td>NSA</td>\n",
       "      <td>2025-06-04 11:20:23-05:00</td>\n",
       "      <td>1</td>\n",
       "      <td>Total wages are the wages paid by Unemployment...</td>\n",
       "    </tr>\n",
       "    <tr>\n",
       "      <th>IPUEN3116L020000000</th>\n",
       "      <td>IPUEN3116L020000000</td>\n",
       "      <td>2025-07-15</td>\n",
       "      <td>2025-07-15</td>\n",
       "      <td>Labor Compensation for Manufacturing: Animal S...</td>\n",
       "      <td>1987-01-01</td>\n",
       "      <td>2024-01-01</td>\n",
       "      <td>Annual</td>\n",
       "      <td>A</td>\n",
       "      <td>Millions of Dollars</td>\n",
       "      <td>Mil. of $</td>\n",
       "      <td>Not Seasonally Adjusted</td>\n",
       "      <td>NSA</td>\n",
       "      <td>2025-04-24 15:24:03-05:00</td>\n",
       "      <td>1</td>\n",
       "      <td>Labor compensation, defined as payroll plus su...</td>\n",
       "    </tr>\n",
       "    <tr>\n",
       "      <th>IPUEN3116U110000000</th>\n",
       "      <td>IPUEN3116U110000000</td>\n",
       "      <td>2025-07-15</td>\n",
       "      <td>2025-07-15</td>\n",
       "      <td>Labor Compensation for Manufacturing: Animal S...</td>\n",
       "      <td>1987-01-01</td>\n",
       "      <td>2024-01-01</td>\n",
       "      <td>Annual</td>\n",
       "      <td>A</td>\n",
       "      <td>Index 2017=100</td>\n",
       "      <td>Index 2017=100</td>\n",
       "      <td>Not Seasonally Adjusted</td>\n",
       "      <td>NSA</td>\n",
       "      <td>2025-04-24 15:24:02-05:00</td>\n",
       "      <td>1</td>\n",
       "      <td>Labor compensation, defined as payroll plus su...</td>\n",
       "    </tr>\n",
       "    <tr>\n",
       "      <th>ENUC148640110SA</th>\n",
       "      <td>ENUC148640110SA</td>\n",
       "      <td>2025-07-15</td>\n",
       "      <td>2025-07-15</td>\n",
       "      <td>Average Weekly Wages for Employees in Federal ...</td>\n",
       "      <td>1990-01-01</td>\n",
       "      <td>2024-10-01</td>\n",
       "      <td>Quarterly</td>\n",
       "      <td>Q</td>\n",
       "      <td>Dollars per Week</td>\n",
       "      <td>$ per Week</td>\n",
       "      <td>Seasonally Adjusted</td>\n",
       "      <td>SA</td>\n",
       "      <td>2025-06-04 11:28:20-05:00</td>\n",
       "      <td>1</td>\n",
       "      <td>Average weekly wages are the wages paid by une...</td>\n",
       "    </tr>\n",
       "    <tr>\n",
       "      <th>ENUC148640110</th>\n",
       "      <td>ENUC148640110</td>\n",
       "      <td>2025-07-15</td>\n",
       "      <td>2025-07-15</td>\n",
       "      <td>Average Weekly Wages for Employees in Federal ...</td>\n",
       "      <td>1990-01-01</td>\n",
       "      <td>2024-10-01</td>\n",
       "      <td>Quarterly</td>\n",
       "      <td>Q</td>\n",
       "      <td>Dollars per Week</td>\n",
       "      <td>$ per Week</td>\n",
       "      <td>Not Seasonally Adjusted</td>\n",
       "      <td>NSA</td>\n",
       "      <td>2025-06-04 11:21:44-05:00</td>\n",
       "      <td>1</td>\n",
       "      <td>Average weekly wages are the wages paid by une...</td>\n",
       "    </tr>\n",
       "  </tbody>\n",
       "</table>\n",
       "<p>1000 rows × 15 columns</p>\n",
       "</div>"
      ],
      "text/plain": [
       "                                      id realtime_start realtime_end  \\\n",
       "series id                                                              \n",
       "UNRATE                            UNRATE     2025-07-15   2025-07-15   \n",
       "UNRATENSA                      UNRATENSA     2025-07-15   2025-07-15   \n",
       "UNEMPLOY                        UNEMPLOY     2025-07-15   2025-07-15   \n",
       "NROU                                NROU     2025-07-15   2025-07-15   \n",
       "CCSA                                CCSA     2025-07-15   2025-07-15   \n",
       "...                                  ...            ...          ...   \n",
       "ENUC317430010              ENUC317430010     2025-07-15   2025-07-15   \n",
       "IPUEN3116L020000000  IPUEN3116L020000000     2025-07-15   2025-07-15   \n",
       "IPUEN3116U110000000  IPUEN3116U110000000     2025-07-15   2025-07-15   \n",
       "ENUC148640110SA          ENUC148640110SA     2025-07-15   2025-07-15   \n",
       "ENUC148640110              ENUC148640110     2025-07-15   2025-07-15   \n",
       "\n",
       "                                                                 title  \\\n",
       "series id                                                                \n",
       "UNRATE                                               Unemployment Rate   \n",
       "UNRATENSA                                            Unemployment Rate   \n",
       "UNEMPLOY                                            Unemployment Level   \n",
       "NROU                                  Noncyclical Rate of Unemployment   \n",
       "CCSA                           Continued Claims (Insured Unemployment)   \n",
       "...                                                                ...   \n",
       "ENUC317430010             Total Quarterly Wages in Manhattan, KS (MSA)   \n",
       "IPUEN3116L020000000  Labor Compensation for Manufacturing: Animal S...   \n",
       "IPUEN3116U110000000  Labor Compensation for Manufacturing: Animal S...   \n",
       "ENUC148640110SA      Average Weekly Wages for Employees in Federal ...   \n",
       "ENUC148640110        Average Weekly Wages for Employees in Federal ...   \n",
       "\n",
       "                    observation_start observation_end  \\\n",
       "series id                                               \n",
       "UNRATE                     1948-01-01      2025-06-01   \n",
       "UNRATENSA                  1948-01-01      2025-06-01   \n",
       "UNEMPLOY                   1948-01-01      2025-06-01   \n",
       "NROU                       1949-01-01      2035-10-01   \n",
       "CCSA                       1967-01-07      2025-06-28   \n",
       "...                               ...             ...   \n",
       "ENUC317430010              2013-01-01      2024-10-01   \n",
       "IPUEN3116L020000000        1987-01-01      2024-01-01   \n",
       "IPUEN3116U110000000        1987-01-01      2024-01-01   \n",
       "ENUC148640110SA            1990-01-01      2024-10-01   \n",
       "ENUC148640110              1990-01-01      2024-10-01   \n",
       "\n",
       "                                   frequency frequency_short  \\\n",
       "series id                                                      \n",
       "UNRATE                               Monthly               M   \n",
       "UNRATENSA                            Monthly               M   \n",
       "UNEMPLOY                             Monthly               M   \n",
       "NROU                               Quarterly               Q   \n",
       "CCSA                 Weekly, Ending Saturday               W   \n",
       "...                                      ...             ...   \n",
       "ENUC317430010                      Quarterly               Q   \n",
       "IPUEN3116L020000000                   Annual               A   \n",
       "IPUEN3116U110000000                   Annual               A   \n",
       "ENUC148640110SA                    Quarterly               Q   \n",
       "ENUC148640110                      Quarterly               Q   \n",
       "\n",
       "                                    units        units_short  \\\n",
       "series id                                                      \n",
       "UNRATE                            Percent                  %   \n",
       "UNRATENSA                         Percent                  %   \n",
       "UNEMPLOY             Thousands of Persons  Thous. of Persons   \n",
       "NROU                              Percent                  %   \n",
       "CCSA                               Number             Number   \n",
       "...                                   ...                ...   \n",
       "ENUC317430010                     Dollars                  $   \n",
       "IPUEN3116L020000000   Millions of Dollars          Mil. of $   \n",
       "IPUEN3116U110000000        Index 2017=100     Index 2017=100   \n",
       "ENUC148640110SA          Dollars per Week         $ per Week   \n",
       "ENUC148640110            Dollars per Week         $ per Week   \n",
       "\n",
       "                         seasonal_adjustment seasonal_adjustment_short  \\\n",
       "series id                                                                \n",
       "UNRATE                   Seasonally Adjusted                        SA   \n",
       "UNRATENSA            Not Seasonally Adjusted                       NSA   \n",
       "UNEMPLOY                 Seasonally Adjusted                        SA   \n",
       "NROU                 Not Seasonally Adjusted                       NSA   \n",
       "CCSA                     Seasonally Adjusted                        SA   \n",
       "...                                      ...                       ...   \n",
       "ENUC317430010        Not Seasonally Adjusted                       NSA   \n",
       "IPUEN3116L020000000  Not Seasonally Adjusted                       NSA   \n",
       "IPUEN3116U110000000  Not Seasonally Adjusted                       NSA   \n",
       "ENUC148640110SA          Seasonally Adjusted                        SA   \n",
       "ENUC148640110        Not Seasonally Adjusted                       NSA   \n",
       "\n",
       "                                  last_updated popularity  \\\n",
       "series id                                                   \n",
       "UNRATE               2025-07-03 07:47:54-05:00         95   \n",
       "UNRATENSA            2025-07-03 07:47:54-05:00         58   \n",
       "UNEMPLOY             2025-07-03 07:48:40-05:00         71   \n",
       "NROU                 2025-03-17 15:44:05-05:00         69   \n",
       "CCSA                 2025-07-10 07:33:02-05:00         74   \n",
       "...                                        ...        ...   \n",
       "ENUC317430010        2025-06-04 11:20:23-05:00          1   \n",
       "IPUEN3116L020000000  2025-04-24 15:24:03-05:00          1   \n",
       "IPUEN3116U110000000  2025-04-24 15:24:02-05:00          1   \n",
       "ENUC148640110SA      2025-06-04 11:28:20-05:00          1   \n",
       "ENUC148640110        2025-06-04 11:21:44-05:00          1   \n",
       "\n",
       "                                                                 notes  \n",
       "series id                                                               \n",
       "UNRATE               The unemployment rate represents the number of...  \n",
       "UNRATENSA            The unemployment rate represents the number of...  \n",
       "UNEMPLOY             The series comes from the 'Current Population ...  \n",
       "NROU                 Starting with the July, 2021 report: An Update...  \n",
       "CCSA                 Continued claims, also referred to as insured ...  \n",
       "...                                                                ...  \n",
       "ENUC317430010        Total wages are the wages paid by Unemployment...  \n",
       "IPUEN3116L020000000  Labor compensation, defined as payroll plus su...  \n",
       "IPUEN3116U110000000  Labor compensation, defined as payroll plus su...  \n",
       "ENUC148640110SA      Average weekly wages are the wages paid by une...  \n",
       "ENUC148640110        Average weekly wages are the wages paid by une...  \n",
       "\n",
       "[1000 rows x 15 columns]"
      ]
     },
     "execution_count": 26,
     "metadata": {},
     "output_type": "execute_result"
    }
   ],
   "source": [
    "unemp_results  "
   ]
  },
  {
   "cell_type": "code",
   "execution_count": 1,
   "id": "6f645bcc",
   "metadata": {},
   "outputs": [
    {
     "name": "stdout",
     "output_type": "stream",
     "text": [
      "3.5\n"
     ]
    }
   ],
   "source": [
    "num1 = 7\n",
    "num2 = 2\n",
    "result = num1 / num2\n",
    "print(result)"
   ]
  },
  {
   "cell_type": "code",
   "execution_count": 2,
   "id": "a7c1a705",
   "metadata": {},
   "outputs": [
    {
     "name": "stdout",
     "output_type": "stream",
     "text": [
      "3\n"
     ]
    }
   ],
   "source": [
    "print(10 // 3)"
   ]
  },
  {
   "cell_type": "code",
   "execution_count": 4,
   "id": "ff82b163",
   "metadata": {},
   "outputs": [
    {
     "name": "stdout",
     "output_type": "stream",
     "text": [
      "[10, 30, 40, 50]\n"
     ]
    }
   ],
   "source": [
    "numbers = [10, 20, 30, 40]\n",
    "numbers.append(50)\n",
    "numbers.remove(20)\n",
    "print(numbers)"
   ]
  },
  {
   "cell_type": "code",
   "execution_count": 5,
   "id": "ad474924",
   "metadata": {},
   "outputs": [
    {
     "name": "stdout",
     "output_type": "stream",
     "text": [
      "['b', 'c', 'd']\n"
     ]
    }
   ],
   "source": [
    "letters = ['a', 'b', 'c', 'd', 'e']\n",
    "print(letters[1:4])"
   ]
  },
  {
   "cell_type": "code",
   "execution_count": 6,
   "id": "753574e9",
   "metadata": {},
   "outputs": [
    {
     "name": "stdout",
     "output_type": "stream",
     "text": [
      "['x', 'y', 'z', 'z']\n"
     ]
    }
   ],
   "source": [
    "list1 = ['x', 'y']\n",
    "list2 = ['z']\n",
    "result = list1 + list2 * 2\n",
    "print(result)\n"
   ]
  },
  {
   "cell_type": "code",
   "execution_count": 7,
   "id": "8559d970",
   "metadata": {},
   "outputs": [
    {
     "name": "stdout",
     "output_type": "stream",
     "text": [
      "['ELEPHANT']\n"
     ]
    }
   ],
   "source": [
    "words = [\"cat\", \"dog\", \"elephant\"]\n",
    "result = [word.upper() for word in words if len(word)>3]\n",
    "print(result)"
   ]
  },
  {
   "cell_type": "code",
   "execution_count": 9,
   "id": "8b4c51fd",
   "metadata": {},
   "outputs": [
    {
     "name": "stdout",
     "output_type": "stream",
     "text": [
      "23\n"
     ]
    }
   ],
   "source": [
    "x = 13\n",
    "y = 10\n",
    "c = x + y\n",
    "\n",
    "print(c)"
   ]
  },
  {
   "cell_type": "code",
   "execution_count": 10,
   "id": "c9fda268",
   "metadata": {},
   "outputs": [
    {
     "name": "stdout",
     "output_type": "stream",
     "text": [
      "[4, 8]\n"
     ]
    }
   ],
   "source": [
    "my_list = [1, 2, 3, 4, 5]\n",
    "new_list = [x * 2 for x in my_list if x % 2 == 0]\n",
    "print(new_list)"
   ]
  },
  {
   "cell_type": "code",
   "execution_count": 11,
   "id": "46c10540",
   "metadata": {},
   "outputs": [
    {
     "name": "stdout",
     "output_type": "stream",
     "text": [
      "[1, 2, 3, 4, 5]\n"
     ]
    }
   ],
   "source": [
    "my_tuple = (1, 2, 3, 4)\n",
    "my_list = list(my_tuple)\n",
    "my_list.append(5)\n",
    "print(my_list)"
   ]
  },
  {
   "cell_type": "code",
   "execution_count": 1,
   "id": "f8a72908",
   "metadata": {},
   "outputs": [
    {
     "name": "stdout",
     "output_type": "stream",
     "text": [
      "2\n"
     ]
    }
   ],
   "source": [
    "a = 10\n",
    "b = 5\n",
    "result = a // b + a % b\n",
    "print(result)"
   ]
  },
  {
   "cell_type": "code",
   "execution_count": null,
   "id": "087fe8db",
   "metadata": {},
   "outputs": [
    {
     "name": "stdout",
     "output_type": "stream",
     "text": [
      "you haven't been born yet\n"
     ]
    }
   ],
   "source": [
    "age = int(input(\"Enter your age:\"))\n",
    "\n",
    "if age >= 18:\n",
    "    print(\"You are signed up!\")\n",
    "elif age < 0:\n",
    "    print(\"you haven't been born yet\")\n",
    "elif age >= 100:\n",
    "    print(\"You are too old to sign up\")\n",
    "else: \n",
    "    print(\"You musht be 18+ to sign up\")"
   ]
  },
  {
   "cell_type": "code",
   "execution_count": 10,
   "id": "12ba03a3",
   "metadata": {},
   "outputs": [
    {
     "name": "stdout",
     "output_type": "stream",
     "text": [
      "Have some food!\n"
     ]
    }
   ],
   "source": [
    "response = input(\"Would you like food? (Y/N): \")\n",
    "\n",
    "if response == \"Y\" or \"y\":\n",
    "    print(\"Have some food!\")\n",
    "else:\n",
    "    print(\"No food for you!\")"
   ]
  },
  {
   "cell_type": "code",
   "execution_count": 12,
   "id": "c78fa104",
   "metadata": {},
   "outputs": [
    {
     "name": "stdout",
     "output_type": "stream",
     "text": [
      "This item is for sale!\n"
     ]
    }
   ],
   "source": [
    "for_sale = True\n",
    "\n",
    "if for_sale: \n",
    "    print(\"This item is for sale!\")\n",
    "else:\n",
    "    print(\"This item is NOT for sale!\")"
   ]
  },
  {
   "cell_type": "code",
   "execution_count": 13,
   "id": "dcd17752",
   "metadata": {},
   "outputs": [
    {
     "name": "stdout",
     "output_type": "stream",
     "text": [
      "Condition met\n"
     ]
    }
   ],
   "source": [
    "x = 8\n",
    "y = 3\n",
    "if x > 5 and y < 5:\n",
    "    print('Condition met')\n",
    "else:\n",
    "    print('Condition not met')"
   ]
  },
  {
   "cell_type": "code",
   "execution_count": 14,
   "id": "2d84d651",
   "metadata": {},
   "outputs": [
    {
     "name": "stdout",
     "output_type": "stream",
     "text": [
      "x is between 10 and 30\n"
     ]
    }
   ],
   "source": [
    "x = 25\n",
    "if x > 10:\n",
    "    if x < 30:\n",
    "        print('x is between 10 and 30')\n",
    "    else:\n",
    "        print('x is 30 or more')\n",
    "else:\n",
    "    print('x is 10 or less')"
   ]
  },
  {
   "cell_type": "code",
   "execution_count": 15,
   "id": "1df9057d",
   "metadata": {},
   "outputs": [
    {
     "ename": "IndentationError",
     "evalue": "expected an indented block after 'if' statement on line 1 (2462206045.py, line 2)",
     "output_type": "error",
     "traceback": [
      "  \u001b[36mCell\u001b[39m\u001b[36m \u001b[39m\u001b[32mIn[15]\u001b[39m\u001b[32m, line 2\u001b[39m\n\u001b[31m    \u001b[39m\u001b[31mprint('Hello')\u001b[39m\n    ^\n\u001b[31mIndentationError\u001b[39m\u001b[31m:\u001b[39m expected an indented block after 'if' statement on line 1\n"
     ]
    }
   ],
   "source": [
    "if True:\n",
    "print('Hello')\n",
    "    print('World')"
   ]
  },
  {
   "cell_type": "code",
   "execution_count": 16,
   "id": "245d160b",
   "metadata": {},
   "outputs": [
    {
     "name": "stdout",
     "output_type": "stream",
     "text": [
      "Greater than 10\n"
     ]
    }
   ],
   "source": [
    "number = 15\n",
    "if number > 20:\n",
    "    print('Greater than 20')\n",
    "elif number > 10:\n",
    "    print('Greater than 10')\n",
    "else:\n",
    "    print('10 or less')"
   ]
  },
  {
   "cell_type": "code",
   "execution_count": 17,
   "id": "4edb5dc9",
   "metadata": {},
   "outputs": [
    {
     "name": "stdout",
     "output_type": "stream",
     "text": [
      "Positive and even\n"
     ]
    }
   ],
   "source": [
    "num = 8\n",
    "if num > 0:\n",
    "    if num % 2 == 0:\n",
    "        print('Positive and even')\n",
    "    else:\n",
    "        print('Positive and odd')\n",
    "else:\n",
    "    print('Not positive')"
   ]
  },
  {
   "cell_type": "code",
   "execution_count": 18,
   "id": "6b515dcd",
   "metadata": {},
   "outputs": [
    {
     "name": "stdout",
     "output_type": "stream",
     "text": [
      "Grade: B\n"
     ]
    }
   ],
   "source": [
    "score = 85\n",
    "if score >= 90:\n",
    "    print('Grade: A')\n",
    "elif score >= 80:\n",
    "    print('Grade: B')\n",
    "else:\n",
    "    print('Grade: C')"
   ]
  },
  {
   "cell_type": "code",
   "execution_count": 25,
   "id": "1a357450",
   "metadata": {},
   "outputs": [
    {
     "name": "stdout",
     "output_type": "stream",
     "text": [
      "Valid PIN\n",
      "You do not have enough money.\n"
     ]
    }
   ],
   "source": [
    "secret_PIN = 1234\n",
    "int(input(\"What is your PIN? \"))\n",
    "bal = 500\n",
    "\n",
    "if PIN == secret_PIN:\n",
    "    print(\"Valid PIN\")\n",
    "    amount = int(input(\"How much would you like to withdraw? \"))\n",
    "    if amount <= bal:\n",
    "        print(\"Money issued\")\n",
    "    elif amount > bal:  \n",
    "        print(\"You do not have enough money.\")\n",
    "else:\n",
    "    print(\"Error\")\n"
   ]
  }
 ],
 "metadata": {
  "kernelspec": {
   "display_name": "Python 3",
   "language": "python",
   "name": "python3"
  },
  "language_info": {
   "codemirror_mode": {
    "name": "ipython",
    "version": 3
   },
   "file_extension": ".py",
   "mimetype": "text/x-python",
   "name": "python",
   "nbconvert_exporter": "python",
   "pygments_lexer": "ipython3",
   "version": "3.13.4"
  }
 },
 "nbformat": 4,
 "nbformat_minor": 5
}
