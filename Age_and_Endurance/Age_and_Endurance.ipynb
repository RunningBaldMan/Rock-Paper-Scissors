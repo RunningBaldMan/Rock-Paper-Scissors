{
 "cells": [
  {
   "cell_type": "markdown",
   "id": "e04969cb",
   "metadata": {},
   "source": [
    "To activate virtual environment  type in terminal source env/bin/activate\n",
    "To exit type deactivate"
   ]
  },
  {
   "cell_type": "markdown",
   "id": "1a48b328",
   "metadata": {},
   "source": [
    "3 Graphs\n",
    "- Age by year\n",
    "- Male vs female age\n",
    "- Age by each marathon\n",
    "- Age for 2019 Indy Monumental\n",
    "\n",
    "2nd data frame contains ultra marathons\n",
    "- distance and age\n",
    "- age by country"
   ]
  },
  {
   "cell_type": "markdown",
   "id": "c8d8a509",
   "metadata": {},
   "source": [
    "Open your notebook (.ipynb).\n",
    "Click the kernel picker (top right of the notebook).\n",
    "Choose venv as the kernel - it will be under Python Environments\n",
    "\n",
    "Is this a different .ipynb?"
   ]
  },
  {
   "cell_type": "markdown",
   "id": "4c693c1e",
   "metadata": {},
   "source": [
    "Origninal csv too big, 109.7+ MB, for git hub. Had to reduce size. Made csv 2015-2019.\n",
    "Original dataset at https://www.kaggle.com/datasets/runningwithrock/2010-2019-fall-marathons\n",
    "\n",
    "Code to reduce size \n",
    "----\n",
    "marathon_df = marathon_df[marathon_df['Year'] >= 2015]\n",
    "\n",
    "-------\n",
    "2nd data frane The big dataset of ultra-marathon running\n",
    "https://www.kaggle.com/datasets/aiaiaidavid/the-big-dataset-of-ultra-marathon-running/data\n",
    "\n",
    "Will need size reduced"
   ]
  },
  {
   "cell_type": "markdown",
   "id": "7d36f002",
   "metadata": {},
   "source": [
    "I have heard there there is a larger percentage of older adults, 50+, that engage in Ulta Endurance sports. Using the marathon as the basis race, compare the age difference btwn the different distances. (Marathon, 50k, 50m, 100k, 100m, and anything over grouped together.)"
   ]
  },
  {
   "cell_type": "code",
   "execution_count": 9,
   "id": "438fbe73",
   "metadata": {},
   "outputs": [],
   "source": [
    "import zipfile\n",
    "import pandas as pd\n",
    "import matplotlib.pyplot as plt\n",
    "import seaborn as sns"
   ]
  },
  {
   "cell_type": "code",
   "execution_count": 10,
   "id": "ef84a942",
   "metadata": {},
   "outputs": [],
   "source": [
    "# To run this cell need to download full df\n",
    "\n",
    "# marathon_df = pd.read_csv(\"/Users/justinmasters/Downloads/Results.csv\")\n",
    "# marathon_df.head()"
   ]
  },
  {
   "cell_type": "code",
   "execution_count": 11,
   "id": "ae200b33",
   "metadata": {},
   "outputs": [],
   "source": [
    "# marathon_df.shape"
   ]
  },
  {
   "cell_type": "code",
   "execution_count": 12,
   "id": "cbcf3089",
   "metadata": {},
   "outputs": [],
   "source": [
    "# marathon_df.info()"
   ]
  },
  {
   "cell_type": "markdown",
   "id": "94174a08",
   "metadata": {},
   "source": [
    "The above df is too large to push to GitHub. Needs reduced"
   ]
  },
  {
   "cell_type": "code",
   "execution_count": 13,
   "id": "373b66cf",
   "metadata": {},
   "outputs": [],
   "source": [
    "# To drop years prior to 2015\n",
    "\n",
    "# marathon_df = marathon_df[marathon_df['Year'] >= 2015]"
   ]
  },
  {
   "cell_type": "code",
   "execution_count": 14,
   "id": "9d58efbf",
   "metadata": {},
   "outputs": [],
   "source": [
    "# verify reduced rows. Previously 2053366\n",
    "\n",
    "# marathon_df.shape"
   ]
  },
  {
   "cell_type": "code",
   "execution_count": 15,
   "id": "3357772e",
   "metadata": {},
   "outputs": [],
   "source": [
    "# Previous file size 109.7+ MB\n",
    "\n",
    "# marathon_df.info()"
   ]
  },
  {
   "cell_type": "code",
   "execution_count": 16,
   "id": "d41dd7a1",
   "metadata": {},
   "outputs": [],
   "source": [
    "# marathon_df.head()"
   ]
  },
  {
   "cell_type": "code",
   "execution_count": 17,
   "id": "26dba1de",
   "metadata": {},
   "outputs": [],
   "source": [
    "# marathon_df.tail()"
   ]
  },
  {
   "cell_type": "markdown",
   "id": "64be839a",
   "metadata": {},
   "source": [
    "Appears as if data frame is sorted by race and not year"
   ]
  },
  {
   "cell_type": "code",
   "execution_count": 18,
   "id": "966fd499",
   "metadata": {},
   "outputs": [],
   "source": [
    "# Create new csv with reduced df\n",
    "\n",
    "# marathon_df.to_csv('Results2.csv', index=False)"
   ]
  },
  {
   "cell_type": "code",
   "execution_count": 19,
   "id": "4429a7d8",
   "metadata": {},
   "outputs": [
    {
     "data": {
      "text/html": [
       "<div>\n",
       "<style scoped>\n",
       "    .dataframe tbody tr th:only-of-type {\n",
       "        vertical-align: middle;\n",
       "    }\n",
       "\n",
       "    .dataframe tbody tr th {\n",
       "        vertical-align: top;\n",
       "    }\n",
       "\n",
       "    .dataframe thead th {\n",
       "        text-align: right;\n",
       "    }\n",
       "</style>\n",
       "<table border=\"1\" class=\"dataframe\">\n",
       "  <thead>\n",
       "    <tr style=\"text-align: right;\">\n",
       "      <th></th>\n",
       "      <th>Race</th>\n",
       "      <th>Year</th>\n",
       "      <th>Name</th>\n",
       "      <th>Gender</th>\n",
       "      <th>Age</th>\n",
       "      <th>Finish</th>\n",
       "      <th>Age Bracket</th>\n",
       "    </tr>\n",
       "  </thead>\n",
       "  <tbody>\n",
       "    <tr>\n",
       "      <th>0</th>\n",
       "      <td>Columbus Marathon</td>\n",
       "      <td>2015</td>\n",
       "      <td>Becky Williams</td>\n",
       "      <td>F</td>\n",
       "      <td>29</td>\n",
       "      <td>13645</td>\n",
       "      <td>Under 35</td>\n",
       "    </tr>\n",
       "    <tr>\n",
       "      <th>1</th>\n",
       "      <td>Columbus Marathon</td>\n",
       "      <td>2015</td>\n",
       "      <td>Jessica Sheahan</td>\n",
       "      <td>F</td>\n",
       "      <td>27</td>\n",
       "      <td>13648</td>\n",
       "      <td>Under 35</td>\n",
       "    </tr>\n",
       "    <tr>\n",
       "      <th>2</th>\n",
       "      <td>Columbus Marathon</td>\n",
       "      <td>2015</td>\n",
       "      <td>Kelsey Stief</td>\n",
       "      <td>F</td>\n",
       "      <td>27</td>\n",
       "      <td>13650</td>\n",
       "      <td>Under 35</td>\n",
       "    </tr>\n",
       "    <tr>\n",
       "      <th>3</th>\n",
       "      <td>Columbus Marathon</td>\n",
       "      <td>2015</td>\n",
       "      <td>Mehgan Cline</td>\n",
       "      <td>F</td>\n",
       "      <td>26</td>\n",
       "      <td>13650</td>\n",
       "      <td>Under 35</td>\n",
       "    </tr>\n",
       "    <tr>\n",
       "      <th>4</th>\n",
       "      <td>Columbus Marathon</td>\n",
       "      <td>2015</td>\n",
       "      <td>Stefanie Driesenga</td>\n",
       "      <td>F</td>\n",
       "      <td>28</td>\n",
       "      <td>13652</td>\n",
       "      <td>Under 35</td>\n",
       "    </tr>\n",
       "  </tbody>\n",
       "</table>\n",
       "</div>"
      ],
      "text/plain": [
       "                Race  Year                Name Gender  Age  Finish Age Bracket\n",
       "0  Columbus Marathon  2015      Becky Williams      F   29   13645    Under 35\n",
       "1  Columbus Marathon  2015     Jessica Sheahan      F   27   13648    Under 35\n",
       "2  Columbus Marathon  2015        Kelsey Stief      F   27   13650    Under 35\n",
       "3  Columbus Marathon  2015        Mehgan Cline      F   26   13650    Under 35\n",
       "4  Columbus Marathon  2015  Stefanie Driesenga      F   28   13652    Under 35"
      ]
     },
     "execution_count": 19,
     "metadata": {},
     "output_type": "execute_result"
    }
   ],
   "source": [
    "# Import new csv\n",
    "\n",
    "marathon_df = pd.read_csv(\"/Users/justinmasters/Documents/DA_prereq_Justin_Masters/Notebooks/Age_and_Endurance/Results2.csv\")\n",
    "marathon_df.head()"
   ]
  },
  {
   "cell_type": "code",
   "execution_count": 20,
   "id": "3b9ffcb4",
   "metadata": {},
   "outputs": [
    {
     "data": {
      "text/html": [
       "<div>\n",
       "<style scoped>\n",
       "    .dataframe tbody tr th:only-of-type {\n",
       "        vertical-align: middle;\n",
       "    }\n",
       "\n",
       "    .dataframe tbody tr th {\n",
       "        vertical-align: top;\n",
       "    }\n",
       "\n",
       "    .dataframe thead th {\n",
       "        text-align: right;\n",
       "    }\n",
       "</style>\n",
       "<table border=\"1\" class=\"dataframe\">\n",
       "  <thead>\n",
       "    <tr style=\"text-align: right;\">\n",
       "      <th></th>\n",
       "      <th>Race</th>\n",
       "      <th>Year</th>\n",
       "      <th>Name</th>\n",
       "      <th>Gender</th>\n",
       "      <th>Age</th>\n",
       "      <th>Finish</th>\n",
       "      <th>Age Bracket</th>\n",
       "    </tr>\n",
       "  </thead>\n",
       "  <tbody>\n",
       "    <tr>\n",
       "      <th>991517</th>\n",
       "      <td>Marine Corps Marathon</td>\n",
       "      <td>2019</td>\n",
       "      <td>Daryl Young</td>\n",
       "      <td>M</td>\n",
       "      <td>39</td>\n",
       "      <td>18575</td>\n",
       "      <td>35-39</td>\n",
       "    </tr>\n",
       "    <tr>\n",
       "      <th>991518</th>\n",
       "      <td>Marine Corps Marathon</td>\n",
       "      <td>2019</td>\n",
       "      <td>Ella Biggins</td>\n",
       "      <td>F</td>\n",
       "      <td>24</td>\n",
       "      <td>18575</td>\n",
       "      <td>Under 35</td>\n",
       "    </tr>\n",
       "    <tr>\n",
       "      <th>991519</th>\n",
       "      <td>Marine Corps Marathon</td>\n",
       "      <td>2019</td>\n",
       "      <td>Kevin Klym</td>\n",
       "      <td>M</td>\n",
       "      <td>44</td>\n",
       "      <td>18575</td>\n",
       "      <td>40-44</td>\n",
       "    </tr>\n",
       "    <tr>\n",
       "      <th>991520</th>\n",
       "      <td>Marine Corps Marathon</td>\n",
       "      <td>2019</td>\n",
       "      <td>Casey A Shapiro</td>\n",
       "      <td>F</td>\n",
       "      <td>34</td>\n",
       "      <td>18578</td>\n",
       "      <td>Under 35</td>\n",
       "    </tr>\n",
       "    <tr>\n",
       "      <th>991521</th>\n",
       "      <td>Marine Corps Marathon</td>\n",
       "      <td>2019</td>\n",
       "      <td>Zhaowei Liu</td>\n",
       "      <td>M</td>\n",
       "      <td>64</td>\n",
       "      <td>18578</td>\n",
       "      <td>60-64</td>\n",
       "    </tr>\n",
       "  </tbody>\n",
       "</table>\n",
       "</div>"
      ],
      "text/plain": [
       "                         Race  Year             Name Gender  Age  Finish  \\\n",
       "991517  Marine Corps Marathon  2019      Daryl Young      M   39   18575   \n",
       "991518  Marine Corps Marathon  2019     Ella Biggins      F   24   18575   \n",
       "991519  Marine Corps Marathon  2019       Kevin Klym      M   44   18575   \n",
       "991520  Marine Corps Marathon  2019  Casey A Shapiro      F   34   18578   \n",
       "991521  Marine Corps Marathon  2019      Zhaowei Liu      M   64   18578   \n",
       "\n",
       "       Age Bracket  \n",
       "991517       35-39  \n",
       "991518    Under 35  \n",
       "991519       40-44  \n",
       "991520    Under 35  \n",
       "991521       60-64  "
      ]
     },
     "execution_count": 20,
     "metadata": {},
     "output_type": "execute_result"
    }
   ],
   "source": [
    "marathon_df.tail()"
   ]
  },
  {
   "cell_type": "code",
   "execution_count": 21,
   "id": "ef76a808",
   "metadata": {},
   "outputs": [
    {
     "data": {
      "text/plain": [
       "Race           0\n",
       "Year           0\n",
       "Name           0\n",
       "Gender         5\n",
       "Age            0\n",
       "Finish         0\n",
       "Age Bracket    0\n",
       "dtype: int64"
      ]
     },
     "execution_count": 21,
     "metadata": {},
     "output_type": "execute_result"
    }
   ],
   "source": [
    "# Check null values\n",
    "\n",
    "marathon_df.isnull().sum()\n"
   ]
  },
  {
   "cell_type": "code",
   "execution_count": 22,
   "id": "6a9ac54d",
   "metadata": {},
   "outputs": [],
   "source": [
    "# Nulls are in gender. Possiblly non gender specific runnersl. Convert nulls to NA\n",
    "\n",
    "# marathon_df.fillna('NA')"
   ]
  },
  {
   "cell_type": "code",
   "execution_count": 23,
   "id": "39c9ca61",
   "metadata": {},
   "outputs": [
    {
     "data": {
      "text/html": [
       "<div>\n",
       "<style scoped>\n",
       "    .dataframe tbody tr th:only-of-type {\n",
       "        vertical-align: middle;\n",
       "    }\n",
       "\n",
       "    .dataframe tbody tr th {\n",
       "        vertical-align: top;\n",
       "    }\n",
       "\n",
       "    .dataframe thead th {\n",
       "        text-align: right;\n",
       "    }\n",
       "</style>\n",
       "<table border=\"1\" class=\"dataframe\">\n",
       "  <thead>\n",
       "    <tr style=\"text-align: right;\">\n",
       "      <th></th>\n",
       "      <th>Race</th>\n",
       "      <th>Year</th>\n",
       "      <th>Name</th>\n",
       "      <th>Gender</th>\n",
       "      <th>Age</th>\n",
       "      <th>Finish</th>\n",
       "      <th>Age Bracket</th>\n",
       "    </tr>\n",
       "  </thead>\n",
       "  <tbody>\n",
       "    <tr>\n",
       "      <th>694731</th>\n",
       "      <td>NYC Marathon</td>\n",
       "      <td>2018</td>\n",
       "      <td>Anonymous</td>\n",
       "      <td>NaN</td>\n",
       "      <td>-1</td>\n",
       "      <td>12479</td>\n",
       "      <td>Under 35</td>\n",
       "    </tr>\n",
       "    <tr>\n",
       "      <th>738895</th>\n",
       "      <td>NYC Marathon</td>\n",
       "      <td>2018</td>\n",
       "      <td>Anonymous</td>\n",
       "      <td>NaN</td>\n",
       "      <td>-1</td>\n",
       "      <td>25981</td>\n",
       "      <td>Under 35</td>\n",
       "    </tr>\n",
       "    <tr>\n",
       "      <th>770932</th>\n",
       "      <td>NYC Marathon</td>\n",
       "      <td>2016</td>\n",
       "      <td>Anonymous</td>\n",
       "      <td>NaN</td>\n",
       "      <td>-1</td>\n",
       "      <td>24979</td>\n",
       "      <td>Under 35</td>\n",
       "    </tr>\n",
       "    <tr>\n",
       "      <th>774613</th>\n",
       "      <td>NYC Marathon</td>\n",
       "      <td>2016</td>\n",
       "      <td>Anonymous</td>\n",
       "      <td>NaN</td>\n",
       "      <td>-1</td>\n",
       "      <td>16654</td>\n",
       "      <td>Under 35</td>\n",
       "    </tr>\n",
       "    <tr>\n",
       "      <th>783330</th>\n",
       "      <td>NYC Marathon</td>\n",
       "      <td>2016</td>\n",
       "      <td>Anonymous</td>\n",
       "      <td>NaN</td>\n",
       "      <td>-1</td>\n",
       "      <td>17330</td>\n",
       "      <td>Under 35</td>\n",
       "    </tr>\n",
       "  </tbody>\n",
       "</table>\n",
       "</div>"
      ],
      "text/plain": [
       "                Race  Year       Name Gender  Age  Finish Age Bracket\n",
       "694731  NYC Marathon  2018  Anonymous    NaN   -1   12479    Under 35\n",
       "738895  NYC Marathon  2018  Anonymous    NaN   -1   25981    Under 35\n",
       "770932  NYC Marathon  2016  Anonymous    NaN   -1   24979    Under 35\n",
       "774613  NYC Marathon  2016  Anonymous    NaN   -1   16654    Under 35\n",
       "783330  NYC Marathon  2016  Anonymous    NaN   -1   17330    Under 35"
      ]
     },
     "execution_count": 23,
     "metadata": {},
     "output_type": "execute_result"
    }
   ],
   "source": [
    "# Show rows will nulls\n",
    "\n",
    "marathon_df[marathon_df.isnull().any(axis=1)]"
   ]
  },
  {
   "cell_type": "code",
   "execution_count": 24,
   "id": "63b857bb",
   "metadata": {},
   "outputs": [
    {
     "data": {
      "text/html": [
       "<div>\n",
       "<style scoped>\n",
       "    .dataframe tbody tr th:only-of-type {\n",
       "        vertical-align: middle;\n",
       "    }\n",
       "\n",
       "    .dataframe tbody tr th {\n",
       "        vertical-align: top;\n",
       "    }\n",
       "\n",
       "    .dataframe thead th {\n",
       "        text-align: right;\n",
       "    }\n",
       "</style>\n",
       "<table border=\"1\" class=\"dataframe\">\n",
       "  <thead>\n",
       "    <tr style=\"text-align: right;\">\n",
       "      <th></th>\n",
       "      <th>Race</th>\n",
       "      <th>Year</th>\n",
       "      <th>Name</th>\n",
       "      <th>Gender</th>\n",
       "      <th>Age</th>\n",
       "      <th>Finish</th>\n",
       "      <th>Age Bracket</th>\n",
       "    </tr>\n",
       "  </thead>\n",
       "  <tbody>\n",
       "    <tr>\n",
       "      <th>0</th>\n",
       "      <td>Columbus Marathon</td>\n",
       "      <td>2015</td>\n",
       "      <td>Becky Williams</td>\n",
       "      <td>F</td>\n",
       "      <td>29</td>\n",
       "      <td>13645</td>\n",
       "      <td>Under 35</td>\n",
       "    </tr>\n",
       "    <tr>\n",
       "      <th>1</th>\n",
       "      <td>Columbus Marathon</td>\n",
       "      <td>2015</td>\n",
       "      <td>Jessica Sheahan</td>\n",
       "      <td>F</td>\n",
       "      <td>27</td>\n",
       "      <td>13648</td>\n",
       "      <td>Under 35</td>\n",
       "    </tr>\n",
       "    <tr>\n",
       "      <th>2</th>\n",
       "      <td>Columbus Marathon</td>\n",
       "      <td>2015</td>\n",
       "      <td>Kelsey Stief</td>\n",
       "      <td>F</td>\n",
       "      <td>27</td>\n",
       "      <td>13650</td>\n",
       "      <td>Under 35</td>\n",
       "    </tr>\n",
       "    <tr>\n",
       "      <th>3</th>\n",
       "      <td>Columbus Marathon</td>\n",
       "      <td>2015</td>\n",
       "      <td>Mehgan Cline</td>\n",
       "      <td>F</td>\n",
       "      <td>26</td>\n",
       "      <td>13650</td>\n",
       "      <td>Under 35</td>\n",
       "    </tr>\n",
       "    <tr>\n",
       "      <th>4</th>\n",
       "      <td>Columbus Marathon</td>\n",
       "      <td>2015</td>\n",
       "      <td>Stefanie Driesenga</td>\n",
       "      <td>F</td>\n",
       "      <td>28</td>\n",
       "      <td>13652</td>\n",
       "      <td>Under 35</td>\n",
       "    </tr>\n",
       "    <tr>\n",
       "      <th>...</th>\n",
       "      <td>...</td>\n",
       "      <td>...</td>\n",
       "      <td>...</td>\n",
       "      <td>...</td>\n",
       "      <td>...</td>\n",
       "      <td>...</td>\n",
       "      <td>...</td>\n",
       "    </tr>\n",
       "    <tr>\n",
       "      <th>991517</th>\n",
       "      <td>Marine Corps Marathon</td>\n",
       "      <td>2019</td>\n",
       "      <td>Daryl Young</td>\n",
       "      <td>M</td>\n",
       "      <td>39</td>\n",
       "      <td>18575</td>\n",
       "      <td>35-39</td>\n",
       "    </tr>\n",
       "    <tr>\n",
       "      <th>991518</th>\n",
       "      <td>Marine Corps Marathon</td>\n",
       "      <td>2019</td>\n",
       "      <td>Ella Biggins</td>\n",
       "      <td>F</td>\n",
       "      <td>24</td>\n",
       "      <td>18575</td>\n",
       "      <td>Under 35</td>\n",
       "    </tr>\n",
       "    <tr>\n",
       "      <th>991519</th>\n",
       "      <td>Marine Corps Marathon</td>\n",
       "      <td>2019</td>\n",
       "      <td>Kevin Klym</td>\n",
       "      <td>M</td>\n",
       "      <td>44</td>\n",
       "      <td>18575</td>\n",
       "      <td>40-44</td>\n",
       "    </tr>\n",
       "    <tr>\n",
       "      <th>991520</th>\n",
       "      <td>Marine Corps Marathon</td>\n",
       "      <td>2019</td>\n",
       "      <td>Casey A Shapiro</td>\n",
       "      <td>F</td>\n",
       "      <td>34</td>\n",
       "      <td>18578</td>\n",
       "      <td>Under 35</td>\n",
       "    </tr>\n",
       "    <tr>\n",
       "      <th>991521</th>\n",
       "      <td>Marine Corps Marathon</td>\n",
       "      <td>2019</td>\n",
       "      <td>Zhaowei Liu</td>\n",
       "      <td>M</td>\n",
       "      <td>64</td>\n",
       "      <td>18578</td>\n",
       "      <td>60-64</td>\n",
       "    </tr>\n",
       "  </tbody>\n",
       "</table>\n",
       "<p>991517 rows × 7 columns</p>\n",
       "</div>"
      ],
      "text/plain": [
       "                         Race  Year                Name Gender  Age  Finish  \\\n",
       "0           Columbus Marathon  2015      Becky Williams      F   29   13645   \n",
       "1           Columbus Marathon  2015     Jessica Sheahan      F   27   13648   \n",
       "2           Columbus Marathon  2015        Kelsey Stief      F   27   13650   \n",
       "3           Columbus Marathon  2015        Mehgan Cline      F   26   13650   \n",
       "4           Columbus Marathon  2015  Stefanie Driesenga      F   28   13652   \n",
       "...                       ...   ...                 ...    ...  ...     ...   \n",
       "991517  Marine Corps Marathon  2019         Daryl Young      M   39   18575   \n",
       "991518  Marine Corps Marathon  2019        Ella Biggins      F   24   18575   \n",
       "991519  Marine Corps Marathon  2019          Kevin Klym      M   44   18575   \n",
       "991520  Marine Corps Marathon  2019     Casey A Shapiro      F   34   18578   \n",
       "991521  Marine Corps Marathon  2019         Zhaowei Liu      M   64   18578   \n",
       "\n",
       "       Age Bracket  \n",
       "0         Under 35  \n",
       "1         Under 35  \n",
       "2         Under 35  \n",
       "3         Under 35  \n",
       "4         Under 35  \n",
       "...            ...  \n",
       "991517       35-39  \n",
       "991518    Under 35  \n",
       "991519       40-44  \n",
       "991520    Under 35  \n",
       "991521       60-64  \n",
       "\n",
       "[991517 rows x 7 columns]"
      ]
     },
     "execution_count": 24,
     "metadata": {},
     "output_type": "execute_result"
    }
   ],
   "source": [
    "# Only 5 entries with null values. Not a material portion. Drop rows with NaN\n",
    "\n",
    "marathon_df = marathon_df.dropna()\n",
    "marathon_df"
   ]
  },
  {
   "cell_type": "code",
   "execution_count": 198,
   "id": "7fe545ad",
   "metadata": {},
   "outputs": [
    {
     "data": {
      "text/plain": [
       "Age\n",
       "19    4631\n",
       "18    1294\n",
       "17     747\n",
       "16     475\n",
       "15     183\n",
       "Name: count, dtype: int64"
      ]
     },
     "execution_count": 198,
     "metadata": {},
     "output_type": "execute_result"
    }
   ],
   "source": [
    "# show youngest ages \n",
    "\n",
    "marathon_df[marathon_df['Age'] < 20].value_counts('Age')\n"
   ]
  },
  {
   "cell_type": "code",
   "execution_count": 202,
   "id": "7ee8c7d2",
   "metadata": {},
   "outputs": [
    {
     "data": {
      "text/plain": [
       "Age\n",
       "116    1\n",
       "Name: count, dtype: int64"
      ]
     },
     "execution_count": 202,
     "metadata": {},
     "output_type": "execute_result"
    }
   ],
   "source": [
    "# show oldest ages \n",
    "\n",
    "marathon_df[marathon_df['Age'] > 100].value_counts('Age')"
   ]
  },
  {
   "cell_type": "code",
   "execution_count": 199,
   "id": "022d4982",
   "metadata": {},
   "outputs": [],
   "source": [
    "# remove invalid ages\n",
    "\n",
    "marathon_df = marathon_df[marathon_df['Age'] >= 15]"
   ]
  },
  {
   "cell_type": "code",
   "execution_count": 25,
   "id": "2ebef411",
   "metadata": {},
   "outputs": [
    {
     "data": {
      "text/html": [
       "<div>\n",
       "<style scoped>\n",
       "    .dataframe tbody tr th:only-of-type {\n",
       "        vertical-align: middle;\n",
       "    }\n",
       "\n",
       "    .dataframe tbody tr th {\n",
       "        vertical-align: top;\n",
       "    }\n",
       "\n",
       "    .dataframe thead th {\n",
       "        text-align: right;\n",
       "    }\n",
       "</style>\n",
       "<table border=\"1\" class=\"dataframe\">\n",
       "  <thead>\n",
       "    <tr style=\"text-align: right;\">\n",
       "      <th></th>\n",
       "      <th>Race</th>\n",
       "      <th>Year</th>\n",
       "      <th>Name</th>\n",
       "      <th>Gender</th>\n",
       "      <th>Age</th>\n",
       "      <th>Finish</th>\n",
       "      <th>Age Bracket</th>\n",
       "    </tr>\n",
       "  </thead>\n",
       "  <tbody>\n",
       "  </tbody>\n",
       "</table>\n",
       "</div>"
      ],
      "text/plain": [
       "Empty DataFrame\n",
       "Columns: [Race, Year, Name, Gender, Age, Finish, Age Bracket]\n",
       "Index: []"
      ]
     },
     "execution_count": 25,
     "metadata": {},
     "output_type": "execute_result"
    }
   ],
   "source": [
    "marathon_df[marathon_df.isnull().any(axis=1)]"
   ]
  },
  {
   "cell_type": "code",
   "execution_count": 26,
   "id": "04d41b22",
   "metadata": {},
   "outputs": [
    {
     "data": {
      "text/plain": [
       "(991517, 7)"
      ]
     },
     "execution_count": 26,
     "metadata": {},
     "output_type": "execute_result"
    }
   ],
   "source": [
    "marathon_df.shape"
   ]
  },
  {
   "cell_type": "markdown",
   "id": "62a4b148",
   "metadata": {},
   "source": [
    "Previously 991522 rows. Now has 991517"
   ]
  },
  {
   "cell_type": "code",
   "execution_count": 27,
   "id": "809e59d1",
   "metadata": {},
   "outputs": [
    {
     "data": {
      "text/plain": [
       "0         False\n",
       "1         False\n",
       "2         False\n",
       "3         False\n",
       "4         False\n",
       "          ...  \n",
       "991517    False\n",
       "991518    False\n",
       "991519    False\n",
       "991520    False\n",
       "991521    False\n",
       "Length: 991517, dtype: bool"
      ]
     },
     "execution_count": 27,
     "metadata": {},
     "output_type": "execute_result"
    }
   ],
   "source": [
    "# Check if there are any duplicates\n",
    "\n",
    "marathon_df.duplicated()"
   ]
  },
  {
   "cell_type": "code",
   "execution_count": 28,
   "id": "8bc5f3ac",
   "metadata": {},
   "outputs": [
    {
     "name": "stdout",
     "output_type": "stream",
     "text": [
      "<class 'pandas.core.frame.DataFrame'>\n",
      "Index: 991517 entries, 0 to 991521\n",
      "Data columns (total 7 columns):\n",
      " #   Column       Non-Null Count   Dtype \n",
      "---  ------       --------------   ----- \n",
      " 0   Race         991517 non-null  object\n",
      " 1   Year         991517 non-null  int64 \n",
      " 2   Name         991517 non-null  object\n",
      " 3   Sex          991517 non-null  object\n",
      " 4   Age          991517 non-null  int64 \n",
      " 5   Finish       991517 non-null  int64 \n",
      " 6   Age Bracket  991517 non-null  object\n",
      "dtypes: int64(3), object(4)\n",
      "memory usage: 60.5+ MB\n"
     ]
    }
   ],
   "source": [
    "# Rename Gender column to Sex\n",
    "\n",
    "marathon_df.rename(columns={'Gender': 'Sex'}, inplace=True)\n",
    "marathon_df.info()"
   ]
  },
  {
   "cell_type": "code",
   "execution_count": 29,
   "id": "3606ec7d",
   "metadata": {},
   "outputs": [
    {
     "data": {
      "text/html": [
       "<div>\n",
       "<style scoped>\n",
       "    .dataframe tbody tr th:only-of-type {\n",
       "        vertical-align: middle;\n",
       "    }\n",
       "\n",
       "    .dataframe tbody tr th {\n",
       "        vertical-align: top;\n",
       "    }\n",
       "\n",
       "    .dataframe thead th {\n",
       "        text-align: right;\n",
       "    }\n",
       "</style>\n",
       "<table border=\"1\" class=\"dataframe\">\n",
       "  <thead>\n",
       "    <tr style=\"text-align: right;\">\n",
       "      <th></th>\n",
       "      <th>Race</th>\n",
       "      <th>Year</th>\n",
       "      <th>Name</th>\n",
       "      <th>Sex</th>\n",
       "      <th>Age</th>\n",
       "      <th>Finish</th>\n",
       "      <th>Age Bracket</th>\n",
       "    </tr>\n",
       "  </thead>\n",
       "  <tbody>\n",
       "    <tr>\n",
       "      <th>0</th>\n",
       "      <td>Columbus Marathon</td>\n",
       "      <td>2015</td>\n",
       "      <td>Becky Williams</td>\n",
       "      <td>Female</td>\n",
       "      <td>29</td>\n",
       "      <td>13645</td>\n",
       "      <td>Under 35</td>\n",
       "    </tr>\n",
       "    <tr>\n",
       "      <th>1</th>\n",
       "      <td>Columbus Marathon</td>\n",
       "      <td>2015</td>\n",
       "      <td>Jessica Sheahan</td>\n",
       "      <td>Female</td>\n",
       "      <td>27</td>\n",
       "      <td>13648</td>\n",
       "      <td>Under 35</td>\n",
       "    </tr>\n",
       "    <tr>\n",
       "      <th>2</th>\n",
       "      <td>Columbus Marathon</td>\n",
       "      <td>2015</td>\n",
       "      <td>Kelsey Stief</td>\n",
       "      <td>Female</td>\n",
       "      <td>27</td>\n",
       "      <td>13650</td>\n",
       "      <td>Under 35</td>\n",
       "    </tr>\n",
       "    <tr>\n",
       "      <th>3</th>\n",
       "      <td>Columbus Marathon</td>\n",
       "      <td>2015</td>\n",
       "      <td>Mehgan Cline</td>\n",
       "      <td>Female</td>\n",
       "      <td>26</td>\n",
       "      <td>13650</td>\n",
       "      <td>Under 35</td>\n",
       "    </tr>\n",
       "    <tr>\n",
       "      <th>4</th>\n",
       "      <td>Columbus Marathon</td>\n",
       "      <td>2015</td>\n",
       "      <td>Stefanie Driesenga</td>\n",
       "      <td>Female</td>\n",
       "      <td>28</td>\n",
       "      <td>13652</td>\n",
       "      <td>Under 35</td>\n",
       "    </tr>\n",
       "    <tr>\n",
       "      <th>...</th>\n",
       "      <td>...</td>\n",
       "      <td>...</td>\n",
       "      <td>...</td>\n",
       "      <td>...</td>\n",
       "      <td>...</td>\n",
       "      <td>...</td>\n",
       "      <td>...</td>\n",
       "    </tr>\n",
       "    <tr>\n",
       "      <th>991517</th>\n",
       "      <td>Marine Corps Marathon</td>\n",
       "      <td>2019</td>\n",
       "      <td>Daryl Young</td>\n",
       "      <td>Male</td>\n",
       "      <td>39</td>\n",
       "      <td>18575</td>\n",
       "      <td>35-39</td>\n",
       "    </tr>\n",
       "    <tr>\n",
       "      <th>991518</th>\n",
       "      <td>Marine Corps Marathon</td>\n",
       "      <td>2019</td>\n",
       "      <td>Ella Biggins</td>\n",
       "      <td>Female</td>\n",
       "      <td>24</td>\n",
       "      <td>18575</td>\n",
       "      <td>Under 35</td>\n",
       "    </tr>\n",
       "    <tr>\n",
       "      <th>991519</th>\n",
       "      <td>Marine Corps Marathon</td>\n",
       "      <td>2019</td>\n",
       "      <td>Kevin Klym</td>\n",
       "      <td>Male</td>\n",
       "      <td>44</td>\n",
       "      <td>18575</td>\n",
       "      <td>40-44</td>\n",
       "    </tr>\n",
       "    <tr>\n",
       "      <th>991520</th>\n",
       "      <td>Marine Corps Marathon</td>\n",
       "      <td>2019</td>\n",
       "      <td>Casey A Shapiro</td>\n",
       "      <td>Female</td>\n",
       "      <td>34</td>\n",
       "      <td>18578</td>\n",
       "      <td>Under 35</td>\n",
       "    </tr>\n",
       "    <tr>\n",
       "      <th>991521</th>\n",
       "      <td>Marine Corps Marathon</td>\n",
       "      <td>2019</td>\n",
       "      <td>Zhaowei Liu</td>\n",
       "      <td>Male</td>\n",
       "      <td>64</td>\n",
       "      <td>18578</td>\n",
       "      <td>60-64</td>\n",
       "    </tr>\n",
       "  </tbody>\n",
       "</table>\n",
       "<p>991517 rows × 7 columns</p>\n",
       "</div>"
      ],
      "text/plain": [
       "                         Race  Year                Name     Sex  Age  Finish  \\\n",
       "0           Columbus Marathon  2015      Becky Williams  Female   29   13645   \n",
       "1           Columbus Marathon  2015     Jessica Sheahan  Female   27   13648   \n",
       "2           Columbus Marathon  2015        Kelsey Stief  Female   27   13650   \n",
       "3           Columbus Marathon  2015        Mehgan Cline  Female   26   13650   \n",
       "4           Columbus Marathon  2015  Stefanie Driesenga  Female   28   13652   \n",
       "...                       ...   ...                 ...     ...  ...     ...   \n",
       "991517  Marine Corps Marathon  2019         Daryl Young    Male   39   18575   \n",
       "991518  Marine Corps Marathon  2019        Ella Biggins  Female   24   18575   \n",
       "991519  Marine Corps Marathon  2019          Kevin Klym    Male   44   18575   \n",
       "991520  Marine Corps Marathon  2019     Casey A Shapiro  Female   34   18578   \n",
       "991521  Marine Corps Marathon  2019         Zhaowei Liu    Male   64   18578   \n",
       "\n",
       "       Age Bracket  \n",
       "0         Under 35  \n",
       "1         Under 35  \n",
       "2         Under 35  \n",
       "3         Under 35  \n",
       "4         Under 35  \n",
       "...            ...  \n",
       "991517       35-39  \n",
       "991518    Under 35  \n",
       "991519       40-44  \n",
       "991520    Under 35  \n",
       "991521       60-64  \n",
       "\n",
       "[991517 rows x 7 columns]"
      ]
     },
     "execution_count": 29,
     "metadata": {},
     "output_type": "execute_result"
    }
   ],
   "source": [
    "# Assign Male and Female to M and F\n",
    "\n",
    "marathon_df['Sex'] = marathon_df[\"Sex\"].replace(['M', 'F'], ['Male', 'Female'])\n",
    "marathon_df"
   ]
  },
  {
   "cell_type": "code",
   "execution_count": 30,
   "id": "01be90a9",
   "metadata": {},
   "outputs": [
    {
     "data": {
      "text/plain": [
       "Sex\n",
       "Female    38\n",
       "Male      41\n",
       "Name: Age, dtype: int64"
      ]
     },
     "execution_count": 30,
     "metadata": {},
     "output_type": "execute_result"
    }
   ],
   "source": [
    "# group by sex and calculate the average total age\n",
    "\n",
    "avg_age_by_sex = marathon_df.groupby(\"Sex\")[\"Age\"].mean().astype(int)\n",
    "avg_age_by_sex"
   ]
  },
  {
   "cell_type": "markdown",
   "id": "be8ccbb1",
   "metadata": {},
   "source": [
    "Finding the average age by sex. Is there a significant difference?"
   ]
  },
  {
   "cell_type": "code",
   "execution_count": 176,
   "id": "1faea827",
   "metadata": {},
   "outputs": [
    {
     "data": {
      "image/png": "[encoded data removed]",
      "text/plain": [
       "<Figure size 800x800 with 1 Axes>"
      ]
     },
     "metadata": {},
     "output_type": "display_data"
    }
   ],
   "source": [
    "\n",
    "plt.figure(figsize=(8,8))\n",
    "plt.pie(\n",
    "    avg_age_by_sex,\n",
    "    labels=None,\n",
    "    startangle=110,\n",
    "    colors=[\"#aa109b\", \"blue\"],\n",
    "    autopct=\"%1.1f%%\",\n",
    "    textprops={'color': \"white\"})\n",
    "\n",
    "plt.title(\"Average Age of Women vs Men\")\n",
    "\n",
    "plt.legend(\n",
    "    labels = avg_age_by_sex.index, \n",
    "    loc=\"lower right\",\n",
    "    title = \"Sex\"\n",
    ")\n",
    "\n",
    "\n",
    "plt.show()"
   ]
  },
  {
   "cell_type": "code",
   "execution_count": 33,
   "id": "097cd9cc",
   "metadata": {},
   "outputs": [
    {
     "data": {
      "text/plain": [
       "array(['Columbus Marathon', 'Richmond Marathon', 'Space Coast Marathon',\n",
       "       'Long Beach Marathon', 'Wineglass Marathon', 'Lakefront Marathon',\n",
       "       'St. George Marathon', 'Twin Cities Marathon',\n",
       "       'Des Moines Marathon', 'RnR Las Vegas Marathon',\n",
       "       'Fox Cities Marathon', 'Madison Marathon',\n",
       "       'Indianapolis Monumental Marathon', 'Air Force Marathon',\n",
       "       'Atlantic City Marathon', 'Portland Marathon', 'Cape Cod Marathon',\n",
       "       'Hartford Marathon', 'Steamtown Marathon', 'Seattle Marathon',\n",
       "       'Grand Rapids Marathon', 'Naperville Marathon',\n",
       "       'Detroit International Marathon', 'REVEL Canyon City Marathon',\n",
       "       'Maine Marathon', 'Portland Oregon Marathon',\n",
       "       'Kansas City Marathon', 'Erie Marathon at Presque Isle',\n",
       "       'Route 66 Marathon', 'The Tunnel Lite Marathon',\n",
       "       'Mohawk-Hudson River Marathon', 'Baystate Marathon',\n",
       "       \"Charlotte's Thunder Road Marathon\", 'Moab Trail Marathon',\n",
       "       'Mount Desert Island marathon', 'Akron Marathon', 'Via Marathon',\n",
       "       'Milwaukee Running Festival Marathon', 'RnR Denver Marathon',\n",
       "       'VENTURA MARATHON', 'OBX Marathon', 'Omaha Marathon',\n",
       "       'Equinox Marathon', 'Baltimore Marathon', 'City of Oaks Marathon',\n",
       "       'Big Cottonwood Marathon', 'Seven Bridges Marathon',\n",
       "       'Harrisburg Marathon', 'RnR Savannah Marathon',\n",
       "       'Fox Valley Marathon', 'REVEL Big Bear and Half Marathon',\n",
       "       'PORTLANDATHON',\n",
       "       'Newport Marathon (formerly the Breakers Marathon)',\n",
       "       'Indianapolis Marathon', 'Mo Cowbell Marathon',\n",
       "       'Prairie Fire Wichita Marathon', 'Quad Cities Marathon',\n",
       "       'Suffolk County Marathon', 'Brooklyn Marathon', 'Soldier Marathon',\n",
       "       'Chicago Marathon', 'NYC Marathon', 'Philadelphia Marathon',\n",
       "       'Marine Corps Marathon'], dtype=object)"
      ]
     },
     "execution_count": 33,
     "metadata": {},
     "output_type": "execute_result"
    }
   ],
   "source": [
    "# determine what races are included\n",
    "\n",
    "marathon_df['Race'].unique()"
   ]
  },
  {
   "cell_type": "code",
   "execution_count": 34,
   "id": "113fd577",
   "metadata": {},
   "outputs": [
    {
     "data": {
      "text/plain": [
       "Race\n",
       "Air Force Marathon          42\n",
       "Akron Marathon              40\n",
       "Atlantic City Marathon      41\n",
       "Baltimore Marathon          38\n",
       "Baystate Marathon           39\n",
       "                            ..\n",
       "The Tunnel Lite Marathon    46\n",
       "Twin Cities Marathon        37\n",
       "VENTURA MARATHON            40\n",
       "Via Marathon                41\n",
       "Wineglass Marathon          41\n",
       "Name: Age, Length: 64, dtype: int64"
      ]
     },
     "execution_count": 34,
     "metadata": {},
     "output_type": "execute_result"
    }
   ],
   "source": [
    "# group by race and calculate average age\n",
    "\n",
    "avg_age_by_race = marathon_df.groupby(\"Race\")[\"Age\"].mean().astype(int)\n",
    "avg_age_by_race"
   ]
  },
  {
   "cell_type": "markdown",
   "id": "1d62060d",
   "metadata": {},
   "source": [
    "I ran a horizontal bar char and the number of races made it unreadable. Split into 3rds "
   ]
  },
  {
   "cell_type": "code",
   "execution_count": 48,
   "id": "7cc7ac8e",
   "metadata": {},
   "outputs": [
    {
     "data": {
      "text/plain": [
       "64"
      ]
     },
     "execution_count": 48,
     "metadata": {},
     "output_type": "execute_result"
    }
   ],
   "source": [
    "# Find number of unique races\n",
    "\n",
    "total_unique_races = (marathon_df['Race'].nunique())\n",
    "total_unique_races"
   ]
  },
  {
   "cell_type": "code",
   "execution_count": 38,
   "id": "31a67274",
   "metadata": {},
   "outputs": [
    {
     "data": {
      "text/plain": [
       "21"
      ]
     },
     "execution_count": 38,
     "metadata": {},
     "output_type": "execute_result"
    }
   ],
   "source": [
    "# Determine the size of each third\n",
    "\n",
    "third_of_races_int = total_unique_races // 3\n",
    "third_of_races_int\n"
   ]
  },
  {
   "cell_type": "code",
   "execution_count": 52,
   "id": "a3551bfc",
   "metadata": {},
   "outputs": [],
   "source": [
    "# Get all diff race names \n",
    "\n",
    "unique_races = sorted(marathon_df['Race'].unique())\n",
    "\n",
    "# Calculate how many races per third\n",
    "\n",
    "third_of_races_int = len(unique_races) // 3  \n",
    "\n",
    "# Divide the race names into thirds\n",
    "\n",
    "races_first_third = unique_races[:third_of_races_int]\n",
    "races_second_third = unique_races[third_of_races_int:2 * third_of_races_int]\n",
    "races_final_third = unique_races[2 * third_of_races_int:]\n",
    "\n",
    "# Filter based on race name\n",
    "\n",
    "marathon_df_first_third = marathon_df[marathon_df['Race'].isin(races_first_third)]\n",
    "marathon_df_second_third = marathon_df[marathon_df['Race'].isin(races_second_third)]\n",
    "marathon_df_final_third = marathon_df[marathon_df['Race'].isin(races_final_third)]\n"
   ]
  },
  {
   "cell_type": "code",
   "execution_count": 58,
   "id": "cc10fd48",
   "metadata": {},
   "outputs": [
    {
     "data": {
      "text/html": [
       "<div>\n",
       "<style scoped>\n",
       "    .dataframe tbody tr th:only-of-type {\n",
       "        vertical-align: middle;\n",
       "    }\n",
       "\n",
       "    .dataframe tbody tr th {\n",
       "        vertical-align: top;\n",
       "    }\n",
       "\n",
       "    .dataframe thead th {\n",
       "        text-align: right;\n",
       "    }\n",
       "</style>\n",
       "<table border=\"1\" class=\"dataframe\">\n",
       "  <thead>\n",
       "    <tr style=\"text-align: right;\">\n",
       "      <th></th>\n",
       "      <th>Race</th>\n",
       "      <th>Year</th>\n",
       "      <th>Name</th>\n",
       "      <th>Sex</th>\n",
       "      <th>Age</th>\n",
       "      <th>Finish</th>\n",
       "      <th>Age Bracket</th>\n",
       "    </tr>\n",
       "  </thead>\n",
       "  <tbody>\n",
       "    <tr>\n",
       "      <th>0</th>\n",
       "      <td>Columbus Marathon</td>\n",
       "      <td>2015</td>\n",
       "      <td>Becky Williams</td>\n",
       "      <td>Female</td>\n",
       "      <td>29</td>\n",
       "      <td>13645</td>\n",
       "      <td>Under 35</td>\n",
       "    </tr>\n",
       "    <tr>\n",
       "      <th>1</th>\n",
       "      <td>Columbus Marathon</td>\n",
       "      <td>2015</td>\n",
       "      <td>Jessica Sheahan</td>\n",
       "      <td>Female</td>\n",
       "      <td>27</td>\n",
       "      <td>13648</td>\n",
       "      <td>Under 35</td>\n",
       "    </tr>\n",
       "    <tr>\n",
       "      <th>2</th>\n",
       "      <td>Columbus Marathon</td>\n",
       "      <td>2015</td>\n",
       "      <td>Kelsey Stief</td>\n",
       "      <td>Female</td>\n",
       "      <td>27</td>\n",
       "      <td>13650</td>\n",
       "      <td>Under 35</td>\n",
       "    </tr>\n",
       "    <tr>\n",
       "      <th>3</th>\n",
       "      <td>Columbus Marathon</td>\n",
       "      <td>2015</td>\n",
       "      <td>Mehgan Cline</td>\n",
       "      <td>Female</td>\n",
       "      <td>26</td>\n",
       "      <td>13650</td>\n",
       "      <td>Under 35</td>\n",
       "    </tr>\n",
       "    <tr>\n",
       "      <th>4</th>\n",
       "      <td>Columbus Marathon</td>\n",
       "      <td>2015</td>\n",
       "      <td>Stefanie Driesenga</td>\n",
       "      <td>Female</td>\n",
       "      <td>28</td>\n",
       "      <td>13652</td>\n",
       "      <td>Under 35</td>\n",
       "    </tr>\n",
       "  </tbody>\n",
       "</table>\n",
       "</div>"
      ],
      "text/plain": [
       "                Race  Year                Name     Sex  Age  Finish  \\\n",
       "0  Columbus Marathon  2015      Becky Williams  Female   29   13645   \n",
       "1  Columbus Marathon  2015     Jessica Sheahan  Female   27   13648   \n",
       "2  Columbus Marathon  2015        Kelsey Stief  Female   27   13650   \n",
       "3  Columbus Marathon  2015        Mehgan Cline  Female   26   13650   \n",
       "4  Columbus Marathon  2015  Stefanie Driesenga  Female   28   13652   \n",
       "\n",
       "  Age Bracket  \n",
       "0    Under 35  \n",
       "1    Under 35  \n",
       "2    Under 35  \n",
       "3    Under 35  \n",
       "4    Under 35  "
      ]
     },
     "execution_count": 58,
     "metadata": {},
     "output_type": "execute_result"
    }
   ],
   "source": [
    "# Verify splits and check each is different\n",
    "\n",
    "marathon_df_first_third.head()"
   ]
  },
  {
   "cell_type": "code",
   "execution_count": 54,
   "id": "d0abdadb",
   "metadata": {},
   "outputs": [
    {
     "data": {
      "text/html": [
       "<div>\n",
       "<style scoped>\n",
       "    .dataframe tbody tr th:only-of-type {\n",
       "        vertical-align: middle;\n",
       "    }\n",
       "\n",
       "    .dataframe tbody tr th {\n",
       "        vertical-align: top;\n",
       "    }\n",
       "\n",
       "    .dataframe thead th {\n",
       "        text-align: right;\n",
       "    }\n",
       "</style>\n",
       "<table border=\"1\" class=\"dataframe\">\n",
       "  <thead>\n",
       "    <tr style=\"text-align: right;\">\n",
       "      <th></th>\n",
       "      <th>Race</th>\n",
       "      <th>Year</th>\n",
       "      <th>Name</th>\n",
       "      <th>Sex</th>\n",
       "      <th>Age</th>\n",
       "      <th>Finish</th>\n",
       "      <th>Age Bracket</th>\n",
       "    </tr>\n",
       "  </thead>\n",
       "  <tbody>\n",
       "    <tr>\n",
       "      <th>500</th>\n",
       "      <td>Long Beach Marathon</td>\n",
       "      <td>2015</td>\n",
       "      <td>LISA FUTA</td>\n",
       "      <td>Female</td>\n",
       "      <td>39</td>\n",
       "      <td>18667</td>\n",
       "      <td>35-39</td>\n",
       "    </tr>\n",
       "    <tr>\n",
       "      <th>501</th>\n",
       "      <td>Long Beach Marathon</td>\n",
       "      <td>2015</td>\n",
       "      <td>DULCE FRIEDMAN</td>\n",
       "      <td>Female</td>\n",
       "      <td>43</td>\n",
       "      <td>18675</td>\n",
       "      <td>40-44</td>\n",
       "    </tr>\n",
       "    <tr>\n",
       "      <th>502</th>\n",
       "      <td>Long Beach Marathon</td>\n",
       "      <td>2015</td>\n",
       "      <td>YUN SIK JE</td>\n",
       "      <td>Male</td>\n",
       "      <td>67</td>\n",
       "      <td>18675</td>\n",
       "      <td>65-69</td>\n",
       "    </tr>\n",
       "    <tr>\n",
       "      <th>503</th>\n",
       "      <td>Long Beach Marathon</td>\n",
       "      <td>2015</td>\n",
       "      <td>JORGE MARQUEZ</td>\n",
       "      <td>Male</td>\n",
       "      <td>47</td>\n",
       "      <td>18677</td>\n",
       "      <td>45-49</td>\n",
       "    </tr>\n",
       "    <tr>\n",
       "      <th>504</th>\n",
       "      <td>Long Beach Marathon</td>\n",
       "      <td>2015</td>\n",
       "      <td>DENNIS STONER</td>\n",
       "      <td>Male</td>\n",
       "      <td>26</td>\n",
       "      <td>18682</td>\n",
       "      <td>Under 35</td>\n",
       "    </tr>\n",
       "  </tbody>\n",
       "</table>\n",
       "</div>"
      ],
      "text/plain": [
       "                    Race  Year            Name     Sex  Age  Finish  \\\n",
       "500  Long Beach Marathon  2015       LISA FUTA  Female   39   18667   \n",
       "501  Long Beach Marathon  2015  DULCE FRIEDMAN  Female   43   18675   \n",
       "502  Long Beach Marathon  2015      YUN SIK JE    Male   67   18675   \n",
       "503  Long Beach Marathon  2015   JORGE MARQUEZ    Male   47   18677   \n",
       "504  Long Beach Marathon  2015   DENNIS STONER    Male   26   18682   \n",
       "\n",
       "    Age Bracket  \n",
       "500       35-39  \n",
       "501       40-44  \n",
       "502       65-69  \n",
       "503       45-49  \n",
       "504    Under 35  "
      ]
     },
     "execution_count": 54,
     "metadata": {},
     "output_type": "execute_result"
    }
   ],
   "source": [
    "marathon_df_second_third.head()"
   ]
  },
  {
   "cell_type": "code",
   "execution_count": null,
   "id": "ae013c87",
   "metadata": {},
   "outputs": [
    {
     "data": {
      "text/html": [
       "<div>\n",
       "<style scoped>\n",
       "    .dataframe tbody tr th:only-of-type {\n",
       "        vertical-align: middle;\n",
       "    }\n",
       "\n",
       "    .dataframe tbody tr th {\n",
       "        vertical-align: top;\n",
       "    }\n",
       "\n",
       "    .dataframe thead th {\n",
       "        text-align: right;\n",
       "    }\n",
       "</style>\n",
       "<table border=\"1\" class=\"dataframe\">\n",
       "  <thead>\n",
       "    <tr style=\"text-align: right;\">\n",
       "      <th></th>\n",
       "      <th>Race</th>\n",
       "      <th>Year</th>\n",
       "      <th>Name</th>\n",
       "      <th>Sex</th>\n",
       "      <th>Age</th>\n",
       "      <th>Finish</th>\n",
       "      <th>Age Bracket</th>\n",
       "    </tr>\n",
       "  </thead>\n",
       "  <tbody>\n",
       "    <tr>\n",
       "      <th>100</th>\n",
       "      <td>Richmond Marathon</td>\n",
       "      <td>2019</td>\n",
       "      <td>DAWN STADNYK</td>\n",
       "      <td>Female</td>\n",
       "      <td>43</td>\n",
       "      <td>12847</td>\n",
       "      <td>40-44</td>\n",
       "    </tr>\n",
       "    <tr>\n",
       "      <th>101</th>\n",
       "      <td>Richmond Marathon</td>\n",
       "      <td>2019</td>\n",
       "      <td>ANDREW MARTIN</td>\n",
       "      <td>Male</td>\n",
       "      <td>27</td>\n",
       "      <td>12812</td>\n",
       "      <td>Under 35</td>\n",
       "    </tr>\n",
       "    <tr>\n",
       "      <th>102</th>\n",
       "      <td>Richmond Marathon</td>\n",
       "      <td>2019</td>\n",
       "      <td>CAROL BRAUN</td>\n",
       "      <td>Female</td>\n",
       "      <td>56</td>\n",
       "      <td>12844</td>\n",
       "      <td>55-59</td>\n",
       "    </tr>\n",
       "    <tr>\n",
       "      <th>103</th>\n",
       "      <td>Richmond Marathon</td>\n",
       "      <td>2019</td>\n",
       "      <td>PETER EMERSON</td>\n",
       "      <td>Male</td>\n",
       "      <td>29</td>\n",
       "      <td>12816</td>\n",
       "      <td>Under 35</td>\n",
       "    </tr>\n",
       "    <tr>\n",
       "      <th>104</th>\n",
       "      <td>Richmond Marathon</td>\n",
       "      <td>2019</td>\n",
       "      <td>JACOB BARKER</td>\n",
       "      <td>Male</td>\n",
       "      <td>18</td>\n",
       "      <td>12831</td>\n",
       "      <td>Under 35</td>\n",
       "    </tr>\n",
       "  </tbody>\n",
       "</table>\n",
       "</div>"
      ],
      "text/plain": [
       "                  Race  Year           Name     Sex  Age  Finish Age Bracket\n",
       "100  Richmond Marathon  2019   DAWN STADNYK  Female   43   12847       40-44\n",
       "101  Richmond Marathon  2019  ANDREW MARTIN    Male   27   12812    Under 35\n",
       "102  Richmond Marathon  2019    CAROL BRAUN  Female   56   12844       55-59\n",
       "103  Richmond Marathon  2019  PETER EMERSON    Male   29   12816    Under 35\n",
       "104  Richmond Marathon  2019   JACOB BARKER    Male   18   12831    Under 35"
      ]
     },
     "execution_count": 56,
     "metadata": {},
     "output_type": "execute_result"
    }
   ],
   "source": [
    "marathon_df_final_third.head()"
   ]
  },
  {
   "cell_type": "markdown",
   "id": "a681a127",
   "metadata": {},
   "source": [
    "Finding the average age of the fist third of marathons and call out youngest "
   ]
  },
  {
   "cell_type": "code",
   "execution_count": 69,
   "id": "9591530c",
   "metadata": {},
   "outputs": [
    {
     "data": {
      "text/plain": [
       "Race\n",
       "Air Force Marathon                   42\n",
       "Akron Marathon                       40\n",
       "Atlantic City Marathon               41\n",
       "Baltimore Marathon                   38\n",
       "Baystate Marathon                    39\n",
       "Big Cottonwood Marathon              40\n",
       "Brooklyn Marathon                    35\n",
       "Cape Cod Marathon                    39\n",
       "Charlotte's Thunder Road Marathon    38\n",
       "Chicago Marathon                     41\n",
       "City of Oaks Marathon                38\n",
       "Columbus Marathon                    37\n",
       "Des Moines Marathon                  39\n",
       "Detroit International Marathon       24\n",
       "Equinox Marathon                     41\n",
       "Erie Marathon at Presque Isle        42\n",
       "Fox Cities Marathon                  42\n",
       "Fox Valley Marathon                  42\n",
       "Grand Rapids Marathon                40\n",
       "Harrisburg Marathon                  42\n",
       "Hartford Marathon                    40\n",
       "Name: Age, dtype: int64"
      ]
     },
     "execution_count": 69,
     "metadata": {},
     "output_type": "execute_result"
    }
   ],
   "source": [
    "# get average age of first third\n",
    "\n",
    "avg_age_by_first_third = marathon_df_first_third.groupby(\"Race\")[\"Age\"].mean().astype(int)\n",
    "avg_age_by_first_third"
   ]
  },
  {
   "cell_type": "markdown",
   "id": "30bcb398",
   "metadata": {},
   "source": [
    "Based off of the above info, there are no outliers in the oldest average age"
   ]
  },
  {
   "cell_type": "code",
   "execution_count": null,
   "id": "7767af21",
   "metadata": {},
   "outputs": [
    {
     "data": {
      "image/png": "[encoded data removed]",
      "text/plain": [
       "<Figure size 640x480 with 1 Axes>"
      ]
     },
     "metadata": {},
     "output_type": "display_data"
    }
   ],
   "source": [
    "# plot the first third average age by race\n",
    "\n",
    "bar = plt.barh(avg_age_by_first_third.index, avg_age_by_first_third.values)\n",
    "bar[13].set_color('r')\n",
    "\n",
    "ax = plt.gca()\n",
    "ax.spines['top'].set_visible(False)\n",
    "ax.spines['right'].set_visible(False)\n",
    "\n",
    "plt.xlabel(\"Avg Age\")\n",
    "plt.ylabel(\"Race Name\")\n",
    "plt.title(\"Average Total Age by Race in Fall Marathon Data from 2015 - 2019\")\n",
    "plt.xticks(rotation=45, ha =\"right\")\n",
    "\n",
    "\n",
    "plt.tight_layout()\n",
    "plt.show()"
   ]
  },
  {
   "cell_type": "markdown",
   "id": "976f88e6",
   "metadata": {},
   "source": [
    "Finding the average age of the second third of marathons and call out any abnormalities.\n",
    "Testing a line graph to see if it is a better visualization"
   ]
  },
  {
   "cell_type": "code",
   "execution_count": 70,
   "id": "b85e8a4e",
   "metadata": {},
   "outputs": [
    {
     "data": {
      "text/plain": [
       "Race\n",
       "Indianapolis Marathon                                41\n",
       "Indianapolis Monumental Marathon                     41\n",
       "Kansas City Marathon                                 39\n",
       "Lakefront Marathon                                   39\n",
       "Long Beach Marathon                                  41\n",
       "Madison Marathon                                     37\n",
       "Maine Marathon                                       39\n",
       "Marine Corps Marathon                                40\n",
       "Milwaukee Running Festival Marathon                  40\n",
       "Mo Cowbell Marathon                                  39\n",
       "Moab Trail Marathon                                  40\n",
       "Mohawk-Hudson River Marathon                         41\n",
       "Mount Desert Island marathon                         40\n",
       "NYC Marathon                                         41\n",
       "Naperville Marathon                                  41\n",
       "Newport Marathon (formerly the Breakers Marathon)    37\n",
       "OBX Marathon                                         41\n",
       "Omaha Marathon                                       40\n",
       "PORTLANDATHON                                        41\n",
       "Philadelphia Marathon                                37\n",
       "Portland Marathon                                    39\n",
       "Name: Age, dtype: int64"
      ]
     },
     "execution_count": 70,
     "metadata": {},
     "output_type": "execute_result"
    }
   ],
   "source": [
    "# get average age of second third\n",
    "\n",
    "avg_age_by_second_third = marathon_df_second_third.groupby(\"Race\")[\"Age\"].mean().astype(int)\n",
    "avg_age_by_second_third"
   ]
  },
  {
   "cell_type": "code",
   "execution_count": 125,
   "id": "9c8847b3",
   "metadata": {},
   "outputs": [
    {
     "data": {
      "image/png": "[encoded data removed]",
      "text/plain": [
       "<Figure size 1200x600 with 1 Axes>"
      ]
     },
     "metadata": {},
     "output_type": "display_data"
    }
   ],
   "source": [
    "# Get the race(s) with the youngest avg age and plot the final second average age by race \n",
    "\n",
    "youngest_race = avg_age_by_second_third.idxmin()\n",
    "youngest_age = avg_age_by_second_third.min()\n",
    "\n",
    "plt.figure(figsize=(12, 6))\n",
    "plt.plot(\n",
    "    avg_age_by_second_third.index, \n",
    "    avg_age_by_second_third.values,\n",
    "    marker=\"+\",\n",
    "    linestyle = \"--\",\n",
    "    color = \"#036b16\",\n",
    "    linewidth = 0.5)\n",
    "\n",
    "plt.xlabel(\"Race Name\")\n",
    "plt.ylabel(\"Avg Age\")\n",
    "plt.title(\"Average Total Age by Race in Fall Marathon Data from 2015 - 2019\", fontsize = 18, pad=20)\n",
    "plt.xticks(rotation=45, ha =\"right\")\n",
    "\n",
    "ax = plt.gca()\n",
    "ax.spines[\"top\"].set_visible(False)\n",
    "ax.spines[\"right\"].set_visible(False)\n",
    "\n",
    "\n",
    "plt.tight_layout()\n",
    "\n",
    "plt.ylim(35, 50)\n",
    "plt.show()"
   ]
  },
  {
   "cell_type": "markdown",
   "id": "fb802004",
   "metadata": {},
   "source": [
    "Finding the average age of the final third of marathons and call out youngest and oldest\n",
    "Was not impressed with the line graph, will change for final"
   ]
  },
  {
   "cell_type": "code",
   "execution_count": 71,
   "id": "f36af5ff",
   "metadata": {},
   "outputs": [
    {
     "data": {
      "text/plain": [
       "Race\n",
       "Portland Oregon Marathon            39\n",
       "Prairie Fire Wichita Marathon       39\n",
       "Quad Cities Marathon                39\n",
       "REVEL Big Bear and Half Marathon    46\n",
       "REVEL Canyon City Marathon          43\n",
       "Richmond Marathon                   39\n",
       "RnR Denver Marathon                 39\n",
       "RnR Las Vegas Marathon              19\n",
       "RnR Savannah Marathon               26\n",
       "Route 66 Marathon                   41\n",
       "Seattle Marathon                    37\n",
       "Seven Bridges Marathon              40\n",
       "Soldier Marathon                    42\n",
       "Space Coast Marathon                43\n",
       "St. George Marathon                 41\n",
       "Steamtown Marathon                  41\n",
       "Suffolk County Marathon             41\n",
       "The Tunnel Lite Marathon            46\n",
       "Twin Cities Marathon                37\n",
       "VENTURA MARATHON                    40\n",
       "Via Marathon                        41\n",
       "Wineglass Marathon                  41\n",
       "Name: Age, dtype: int64"
      ]
     },
     "execution_count": 71,
     "metadata": {},
     "output_type": "execute_result"
    }
   ],
   "source": [
    "# get average age of final third\n",
    "\n",
    "avg_age_by_final_third = marathon_df_final_third.groupby(\"Race\")[\"Age\"].mean().astype(int)\n",
    "avg_age_by_final_third"
   ]
  },
  {
   "cell_type": "code",
   "execution_count": 127,
   "id": "a760faa4",
   "metadata": {},
   "outputs": [
    {
     "data": {
      "image/png": "[encoded data removed]",
      "text/plain": [
       "<Figure size 640x480 with 1 Axes>"
      ]
     },
     "metadata": {},
     "output_type": "display_data"
    }
   ],
   "source": [
    "bar = plt.barh(avg_age_by_final_third.index, avg_age_by_final_third.values)\n",
    "bar[7].set_color('r')\n",
    "bar[3].set_color('black')\n",
    "\n",
    "ax = plt.gca()\n",
    "ax.spines['top'].set_visible(False)\n",
    "ax.spines['right'].set_visible(False)\n",
    "\n",
    "plt.xlabel(\"Avg Age\")\n",
    "plt.ylabel(\"Race Name\")\n",
    "plt.title(\"Average Total Age by Race in Fall Marathon Data from 2015 - 2019\")\n",
    "plt.xticks(rotation=45, ha =\"right\")\n",
    "\n",
    "\n",
    "plt.tight_layout()\n",
    "plt.show()"
   ]
  },
  {
   "cell_type": "markdown",
   "id": "9fdde221",
   "metadata": {},
   "source": [
    "Finding the average age by year to see if there was a stand out year for marathons for youngest and oldest"
   ]
  },
  {
   "cell_type": "code",
   "execution_count": 200,
   "id": "5c50eac4",
   "metadata": {},
   "outputs": [
    {
     "data": {
      "text/html": [
       "<div>\n",
       "<style scoped>\n",
       "    .dataframe tbody tr th:only-of-type {\n",
       "        vertical-align: middle;\n",
       "    }\n",
       "\n",
       "    .dataframe tbody tr th {\n",
       "        vertical-align: top;\n",
       "    }\n",
       "\n",
       "    .dataframe thead th {\n",
       "        text-align: right;\n",
       "    }\n",
       "</style>\n",
       "<table border=\"1\" class=\"dataframe\">\n",
       "  <thead>\n",
       "    <tr style=\"text-align: right;\">\n",
       "      <th></th>\n",
       "      <th>Year</th>\n",
       "      <th>Average Age</th>\n",
       "      <th>Youngest Age</th>\n",
       "      <th>Oldest Age</th>\n",
       "    </tr>\n",
       "  </thead>\n",
       "  <tbody>\n",
       "    <tr>\n",
       "      <th>0</th>\n",
       "      <td>2015</td>\n",
       "      <td>40.212665</td>\n",
       "      <td>15</td>\n",
       "      <td>99</td>\n",
       "    </tr>\n",
       "    <tr>\n",
       "      <th>1</th>\n",
       "      <td>2016</td>\n",
       "      <td>40.358593</td>\n",
       "      <td>15</td>\n",
       "      <td>116</td>\n",
       "    </tr>\n",
       "    <tr>\n",
       "      <th>2</th>\n",
       "      <td>2017</td>\n",
       "      <td>40.551069</td>\n",
       "      <td>15</td>\n",
       "      <td>99</td>\n",
       "    </tr>\n",
       "    <tr>\n",
       "      <th>3</th>\n",
       "      <td>2018</td>\n",
       "      <td>40.833645</td>\n",
       "      <td>15</td>\n",
       "      <td>99</td>\n",
       "    </tr>\n",
       "    <tr>\n",
       "      <th>4</th>\n",
       "      <td>2019</td>\n",
       "      <td>41.044031</td>\n",
       "      <td>15</td>\n",
       "      <td>99</td>\n",
       "    </tr>\n",
       "  </tbody>\n",
       "</table>\n",
       "</div>"
      ],
      "text/plain": [
       "   Year  Average Age  Youngest Age  Oldest Age\n",
       "0  2015    40.212665            15          99\n",
       "1  2016    40.358593            15         116\n",
       "2  2017    40.551069            15          99\n",
       "3  2018    40.833645            15          99\n",
       "4  2019    41.044031            15          99"
      ]
     },
     "execution_count": 200,
     "metadata": {},
     "output_type": "execute_result"
    }
   ],
   "source": [
    "# find average, yougest, and oldest by year\n",
    "\n",
    "youngest_and_oldest_by_year = marathon_df.groupby('Year')['Age'].agg(['mean', 'min', 'max']).reset_index()\n",
    "youngest_and_oldest_by_year.columns = ['Year', 'Average Age', 'Youngest Age', 'Oldest Age']\n",
    "youngest_and_oldest_by_year\n"
   ]
  },
  {
   "cell_type": "code",
   "execution_count": 201,
   "id": "59616277",
   "metadata": {},
   "outputs": [
    {
     "data": {
      "image/png": "[encoded data removed]",
      "text/plain": [
       "<Figure size 640x480 with 1 Axes>"
      ]
     },
     "metadata": {},
     "output_type": "display_data"
    }
   ],
   "source": [
    "# plot\n",
    "\n",
    "plt.Figure(figsize=(20, 10))\n",
    "plt.plot(youngest_and_oldest_by_year['Year'], youngest_and_oldest_by_year['Average Age'], label='Average Age', marker='x')\n",
    "plt.plot(youngest_and_oldest_by_year['Year'], youngest_and_oldest_by_year['Youngest Age'], label='Youngest Age', marker='d')\n",
    "plt.plot(youngest_and_oldest_by_year['Year'], youngest_and_oldest_by_year['Oldest Age'], label='Oldest Age', marker='o')\n",
    "\n",
    "plt.xlabel('Year')\n",
    "plt.ylabel('Age')\n",
    "plt.title('Ages by Year: Average, Youngest, Oldest')\n",
    "plt.legend()\n",
    "plt.grid(True)\n",
    "plt.xticks(youngest_and_oldest_by_year['Year'])\n",
    "plt.tight_layout()\n",
    "\n",
    "plt.show()"
   ]
  },
  {
   "cell_type": "markdown",
   "id": "8d041420",
   "metadata": {},
   "source": [
    "Humble not so humble brag that I have completed a marathon, and see where I fall in the overall average age"
   ]
  },
  {
   "cell_type": "markdown",
   "id": "d580475c",
   "metadata": {},
   "source": [
    "Possibly see where I stood in the overall avg age"
   ]
  },
  {
   "cell_type": "code",
   "execution_count": 137,
   "id": "1bb4de31",
   "metadata": {},
   "outputs": [
    {
     "data": {
      "text/html": [
       "<div>\n",
       "<style scoped>\n",
       "    .dataframe tbody tr th:only-of-type {\n",
       "        vertical-align: middle;\n",
       "    }\n",
       "\n",
       "    .dataframe tbody tr th {\n",
       "        vertical-align: top;\n",
       "    }\n",
       "\n",
       "    .dataframe thead th {\n",
       "        text-align: right;\n",
       "    }\n",
       "</style>\n",
       "<table border=\"1\" class=\"dataframe\">\n",
       "  <thead>\n",
       "    <tr style=\"text-align: right;\">\n",
       "      <th></th>\n",
       "      <th>Race</th>\n",
       "      <th>Year</th>\n",
       "      <th>Name</th>\n",
       "      <th>Sex</th>\n",
       "      <th>Age</th>\n",
       "      <th>Finish</th>\n",
       "      <th>Age Bracket</th>\n",
       "    </tr>\n",
       "  </thead>\n",
       "  <tbody>\n",
       "    <tr>\n",
       "      <th>10705</th>\n",
       "      <td>Indianapolis Monumental Marathon</td>\n",
       "      <td>2019</td>\n",
       "      <td>Rachael Meyer</td>\n",
       "      <td>Female</td>\n",
       "      <td>24</td>\n",
       "      <td>15494</td>\n",
       "      <td>Under 35</td>\n",
       "    </tr>\n",
       "    <tr>\n",
       "      <th>10706</th>\n",
       "      <td>Indianapolis Monumental Marathon</td>\n",
       "      <td>2019</td>\n",
       "      <td>Andrea Kjos</td>\n",
       "      <td>Female</td>\n",
       "      <td>39</td>\n",
       "      <td>15495</td>\n",
       "      <td>35-39</td>\n",
       "    </tr>\n",
       "    <tr>\n",
       "      <th>10707</th>\n",
       "      <td>Indianapolis Monumental Marathon</td>\n",
       "      <td>2019</td>\n",
       "      <td>Renee Guthrie</td>\n",
       "      <td>Female</td>\n",
       "      <td>39</td>\n",
       "      <td>15495</td>\n",
       "      <td>35-39</td>\n",
       "    </tr>\n",
       "    <tr>\n",
       "      <th>10708</th>\n",
       "      <td>Indianapolis Monumental Marathon</td>\n",
       "      <td>2019</td>\n",
       "      <td>Jesse Maas</td>\n",
       "      <td>Female</td>\n",
       "      <td>24</td>\n",
       "      <td>15501</td>\n",
       "      <td>Under 35</td>\n",
       "    </tr>\n",
       "    <tr>\n",
       "      <th>10709</th>\n",
       "      <td>Indianapolis Monumental Marathon</td>\n",
       "      <td>2019</td>\n",
       "      <td>Tony Blevins</td>\n",
       "      <td>Male</td>\n",
       "      <td>44</td>\n",
       "      <td>15502</td>\n",
       "      <td>40-44</td>\n",
       "    </tr>\n",
       "  </tbody>\n",
       "</table>\n",
       "</div>"
      ],
      "text/plain": [
       "                                   Race  Year           Name     Sex  Age  \\\n",
       "10705  Indianapolis Monumental Marathon  2019  Rachael Meyer  Female   24   \n",
       "10706  Indianapolis Monumental Marathon  2019    Andrea Kjos  Female   39   \n",
       "10707  Indianapolis Monumental Marathon  2019  Renee Guthrie  Female   39   \n",
       "10708  Indianapolis Monumental Marathon  2019     Jesse Maas  Female   24   \n",
       "10709  Indianapolis Monumental Marathon  2019   Tony Blevins    Male   44   \n",
       "\n",
       "       Finish Age Bracket  \n",
       "10705   15494    Under 35  \n",
       "10706   15495       35-39  \n",
       "10707   15495       35-39  \n",
       "10708   15501    Under 35  \n",
       "10709   15502       40-44  "
      ]
     },
     "execution_count": 137,
     "metadata": {},
     "output_type": "execute_result"
    }
   ],
   "source": [
    "# narrow dataset down to the marathon I completed\n",
    "\n",
    "monumental_marathon_2019 = marathon_df[(marathon_df['Year'] == 2019) & (marathon_df['Race'] == 'Indianapolis Monumental Marathon')]\n",
    "monumental_marathon_2019.head()"
   ]
  },
  {
   "cell_type": "code",
   "execution_count": 138,
   "id": "9b770b0e",
   "metadata": {},
   "outputs": [],
   "source": [
    "# create a csv of Indy Monumental\n",
    "\n",
    "monumental_marathon_2019.to_csv('Indianapolis Monumental Marathon 2019')"
   ]
  },
  {
   "cell_type": "code",
   "execution_count": 139,
   "id": "06384337",
   "metadata": {},
   "outputs": [
    {
     "data": {
      "text/plain": [
       "Race           Indianapolis Monumental Marathon\n",
       "Year                                       2019\n",
       "Name                             Justin Masters\n",
       "Sex                                        Male\n",
       "Age                                          39\n",
       "Finish                                    24716\n",
       "Age Bracket                               35-39\n",
       "Name: 239896, dtype: object"
      ]
     },
     "execution_count": 139,
     "metadata": {},
     "output_type": "execute_result"
    }
   ],
   "source": [
    "# Get my stats\n",
    "\n",
    "my_time = monumental_marathon_2019.iloc[2245]\n",
    "my_time"
   ]
  },
  {
   "cell_type": "code",
   "execution_count": 152,
   "id": "d2ca3145",
   "metadata": {},
   "outputs": [
    {
     "data": {
      "text/plain": [
       "np.int64(39)"
      ]
     },
     "execution_count": 152,
     "metadata": {},
     "output_type": "execute_result"
    }
   ],
   "source": [
    "# Get average of all ages in all years\n",
    "\n",
    "my_age = 39\n",
    "total_avg_age = marathon_df['Age'].mean().astype(int)\n",
    "total_avg_age\n"
   ]
  },
  {
   "cell_type": "code",
   "execution_count": null,
   "id": "49e4afbe",
   "metadata": {},
   "outputs": [
    {
     "name": "stderr",
     "output_type": "stream",
     "text": [
      "/var/folders/77/qj38nbbs3bq7mscbtmmv1lzw0000gn/T/ipykernel_55690/384354288.py:9: UserWarning: No artists with labels found to put in legend.  Note that artists whose label start with an underscore are ignored when legend() is called with no argument.\n",
      "  ax.legend(loc='lower right', ncol=2, fontsize='small', frameon=False)\n"
     ]
    },
    {
     "data": {
      "image/png": "[encoded data removed]",
      "text/plain": [
       "<Figure size 600x400 with 1 Axes>"
      ]
     },
     "metadata": {},
     "output_type": "display_data"
    }
   ],
   "source": [
    "# compare my age to avg age for marathon finishers 2015*2019\n",
    "\n",
    "plt.figure(figsize=(6,4))\n",
    "plt.bar(['Total Avg Age', 'My Age'], [total_avg_age, my_age], color=['blue', 'black'])\n",
    "plt.ylabel('Age')\n",
    "plt.title('My Age vs Total Avg Age Marathon Finisher (2015*2019)')\n",
    "plt.xticks(rotation=45, ha =\"right\")\n",
    "\n",
    "\n",
    "ax = plt.gca()\n",
    "ax.spines['top'].set_visible(False)\n",
    "ax.spines['right'].set_visible(False)\n",
    "\n",
    "plt.show()"
   ]
  },
  {
   "cell_type": "markdown",
   "id": "ab4f33f8",
   "metadata": {},
   "source": [
    "Final Thoughts Bullet points "
   ]
  },
  {
   "cell_type": "markdown",
   "id": "2c9257da",
   "metadata": {},
   "source": [
    "Use possible Choropleth in final with Ultra Marathon data and country of athlete or if home country of athlete age varies"
   ]
  }
 ],
 "metadata": {
  "kernelspec": {
   "display_name": "env",
   "language": "python",
   "name": "python3"
  },
  "language_info": {
   "codemirror_mode": {
    "name": "ipython",
    "version": 3
   },
   "file_extension": ".py",
   "mimetype": "text/x-python",
   "name": "python",
   "nbconvert_exporter": "python",
   "pygments_lexer": "ipython3",
   "version": "3.13.4"
  }
 },
 "nbformat": 4,
 "nbformat_minor": 5
}
