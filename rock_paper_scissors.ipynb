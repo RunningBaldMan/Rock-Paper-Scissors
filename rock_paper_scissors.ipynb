{
 "cells": [
  {
   "cell_type": "code",
   "execution_count": 1,
   "id": "e82e05d8",
   "metadata": {},
   "outputs": [
    {
     "name": "stdout",
     "output_type": "stream",
     "text": [
      "Hello justin.\n",
      "You selected rock.\n",
      "The computer selected rock.\n",
      "It's a tie.\n",
      "Thanks for playing! Do better next time Meatbag.\n"
     ]
    }
   ],
   "source": [
    "import random\n",
    "\n",
    "\n",
    "name = input(\"Enter your name: \")\n",
    "\n",
    "print(f\"Hello {name.lower()}.\")\n",
    "\n",
    "play = input(\"Please select Rock, Paper, or Scissors: \")\n",
    "if play.lower() != \"rock\" and play.lower() != \"paper\" and play.lower() != \"scissors\":\n",
    "    print(\"Invalid selection. Please start over and try again.\")\n",
    "else:\n",
    "    print(f\"You selected {play.lower()}.\")\n",
    "    computer = random.choice([\"rock\", \"paper\", \"scissors\"])\n",
    "    print(f\"The computer selected {computer.lower()}.\")\n",
    "    if play.lower() == computer.lower():\n",
    "        print(\"It's a tie.\")\n",
    "    elif (play.lower() == \"rock\" and computer.lower() == \"scissors\") or \\\n",
    "            (play.lower() == \"paper\" and computer.lower() == \"rock\") or \\\n",
    "            (play.lower() == \"scissors\" and computer.lower() == \"paper\"):\n",
    "            print(\"You destroyed the computer!!!\")\n",
    "    else:\n",
    "         print(\"You lost to a computer. How sad. :(\")\n",
    "    print(\"Thanks for playing! Do better next time Meatbag.\")"
   ]
  }
 ],
 "metadata": {
  "kernelspec": {
   "display_name": "Python 3",
   "language": "python",
   "name": "python3"
  },
  "language_info": {
   "codemirror_mode": {
    "name": "ipython",
    "version": 3
   },
   "file_extension": ".py",
   "mimetype": "text/x-python",
   "name": "python",
   "nbconvert_exporter": "python",
   "pygments_lexer": "ipython3",
   "version": "3.13.4"
  }
 },
 "nbformat": 4,
 "nbformat_minor": 5
}
